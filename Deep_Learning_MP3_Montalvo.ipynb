{
 "cells": [
  {
   "cell_type": "markdown",
   "metadata": {},
   "source": [
    "**You may need to install [OpenCV](https://pypi.python.org/pypi/opencv-python) and [scikit-video](http://www.scikit-video.org/stable/).**"
   ]
  },
  {
   "cell_type": "code",
   "execution_count": 1,
   "metadata": {},
   "outputs": [
    {
     "name": "stderr",
     "output_type": "stream",
     "text": [
      "C:\\ProgramData\\Anaconda3\\lib\\site-packages\\h5py\\__init__.py:36: FutureWarning: Conversion of the second argument of issubdtype from `float` to `np.floating` is deprecated. In future, it will be treated as `np.float64 == np.dtype(float).type`.\n",
      "  from ._conv import register_converters as _register_converters\n",
      "Using TensorFlow backend.\n"
     ]
    }
   ],
   "source": [
    "import keras\n",
    "import numpy as np\n",
    "import io\n",
    "import base64\n",
    "from IPython.display import HTML\n",
    "import skvideo.io\n",
    "import cv2\n",
    "import json\n",
    "\n",
    "from keras.models import Sequential,model_from_json\n",
    "from keras.layers.core import Dense\n",
    "from keras.optimizers import sgd\n",
    "from keras.layers import Conv2D, MaxPooling2D, Activation, AveragePooling2D,Reshape,BatchNormalization, Flatten"
   ]
  },
  {
   "cell_type": "markdown",
   "metadata": {},
   "source": [
    "# MiniProject #3: Deep Reinforcement Learning\n",
    "\n",
    "## Author: MONTALVO Ana - DSBA 2018"
   ]
  },
  {
   "cell_type": "markdown",
   "metadata": {},
   "source": [
    "__Notations__: $E_p$ is the expectation under probability $p$. Please justify each of your answer and widely comment your code."
   ]
  },
  {
   "cell_type": "markdown",
   "metadata": {},
   "source": [
    "# Context"
   ]
  },
  {
   "cell_type": "markdown",
   "metadata": {},
   "source": [
    "In a reinforcement learning algorithm, we modelize each step $t$ as an action $a_t$ obtained from a state $s_t$, i.e. $\\{(a_{t},s_{t})_{t\\leq T}\\}$ having the Markov property. We consider a discount factor $\\gamma \\in [0,1]$ that ensures convergence. The goal is to find among all the policies $\\pi$, one that maximizes the expected reward:\n",
    "\n",
    "\\begin{equation*}\n",
    "R(\\pi)=\\sum_{t\\leq T}E_{p^{\\pi}}[\\gamma^t r(s_{t},a_{t})] \\> ,\n",
    "\\end{equation*}\n",
    "\n",
    "where: \n",
    "\\begin{equation*}p^{\\pi}(a_{0},a_{1},s_{1},...,a_{T},s_{T})=p(a_{0})\\prod_{t=1}^{T}\\pi(a_{t}|s_{t})p(s_{t+1}|s_{t},a_{t}) \\> .\n",
    "\\end{equation*}\n",
    "\n",
    "We note the $Q$-function:\n",
    "\n",
    "\\begin{equation*}Q^\\pi(s,a)=E_{p^{\\pi}}[\\sum_{t\\leq T}\\gamma^{t}r(s_{t},a_{t})|s_{0}=s,a_{0}=a] \\> .\n",
    "\\end{equation*}\n",
    "\n",
    "Thus, the optimal Q function is:\n",
    "\\begin{equation*}\n",
    "Q^*(s,a)=\\max_{\\pi}Q^\\pi(s,a) \\> .\n",
    "\\end{equation*}\n",
    "\n",
    "In this project, we will apply the deep reinforcement learning techniques to a simple game: an agent will have to learn from scratch a policy that will permit it maximizing a reward."
   ]
  },
  {
   "cell_type": "markdown",
   "metadata": {},
   "source": [
    "## The environment, the agent and the game"
   ]
  },
  {
   "cell_type": "markdown",
   "metadata": {},
   "source": [
    "### The environment"
   ]
  },
  {
   "cell_type": "markdown",
   "metadata": {},
   "source": [
    "```Environment``` is an abstract class that represents the states, rewards, and actions to obtain the new state."
   ]
  },
  {
   "cell_type": "code",
   "execution_count": 2,
   "metadata": {},
   "outputs": [],
   "source": [
    "class Environment(object):\n",
    "    def __init__(self):\n",
    "        pass\n",
    "\n",
    "    def act(self, act):\n",
    "        \"\"\"\n",
    "        One can act on the environment and obtain its reaction:\n",
    "        - the new state\n",
    "        - the reward of the new state\n",
    "        - should we continue the game?\n",
    "\n",
    "        :return: state, reward, game_over\n",
    "        \"\"\"\n",
    "        pass\n",
    "\n",
    "\n",
    "    def reset(self):\n",
    "        \"\"\"\n",
    "        Reinitialize the environment to a random state and returns\n",
    "        the original state\n",
    "\n",
    "        :return: state\n",
    "        \"\"\"\n",
    "        pass\n",
    "    \n",
    "    def draw(self):\n",
    "        \"\"\"\n",
    "        Visualize in the console or graphically the current state\n",
    "        \"\"\"\n",
    "        pass"
   ]
  },
  {
   "cell_type": "markdown",
   "metadata": {},
   "source": [
    "The method ```act``` allows to act on the environment at a given state $s_t$ (stored internally), via action $a_t$. The method will return the new state $s_{t+1}$, the reward $r(s_{t},a_{t})$ and determines if $t\\leq T$ (*game_over*).\n",
    "\n",
    "The method ```reset``` simply reinitializes the environment to a random state $s_0$.\n",
    "\n",
    "The method ```draw``` displays the current state $s_t$ (this is useful to check the behavior of the Agent).\n",
    "\n",
    "We modelize $s_t$ as a tensor, while $a_t$ is an integer."
   ]
  },
  {
   "cell_type": "markdown",
   "metadata": {},
   "source": [
    "### The Agent"
   ]
  },
  {
   "cell_type": "markdown",
   "metadata": {},
   "source": [
    "The goal of the ```Agent``` is to interact with the ```Environment``` by proposing actions $a_t$ obtained from a given state $s_t$ to attempt to maximize its __reward__ $r(s_t,a_t)$. We propose the following abstract class:"
   ]
  },
  {
   "cell_type": "code",
   "execution_count": 17,
   "metadata": {},
   "outputs": [],
   "source": [
    "class Agent(object):\n",
    "    def __init__(self, epsilon=0.1, n_action=4):\n",
    "        self.epsilon = epsilon\n",
    "        self.n_action = n_action\n",
    "    \n",
    "    def set_epsilon(self,e):\n",
    "        self.epsilon = e\n",
    "\n",
    "    def act(self,s,train=True):\n",
    "        \"\"\" This function should return the next action to do:\n",
    "        an integer between 0 and 4 (not included) with a random exploration of epsilon\"\"\"\n",
    "        if train:\n",
    "            if np.random.rand() <= self.epsilon:\n",
    "                a = np.random.randint(0, self.n_action, size=1)[0]\n",
    "            else:\n",
    "                a = self.learned_act(s)\n",
    "        else: # in some cases, this can improve the performance.. remove it if poor performances\n",
    "            a = self.learned_act(s)\n",
    "\n",
    "        return a\n",
    "\n",
    "    def learned_act(self,s):\n",
    "        \"\"\" Act via the policy of the agent, from a given state s\n",
    "        it proposes an action a\"\"\"\n",
    "        pass\n",
    "\n",
    "    def reinforce(self, s, n_s, a, r, game_over_):\n",
    "        \"\"\" This function is the core of the learning algorithm. \n",
    "        It takes as an input the current state s_, the next state n_s_\n",
    "        the action a_ used to move from s_ to n_s_ and the reward r_.\n",
    "        \n",
    "        Its goal is to learn a policy.\n",
    "        \"\"\"\n",
    "        pass\n",
    "\n",
    "    def save(self):\n",
    "        \"\"\" This function returns basic stats if applicable: the\n",
    "        loss and/or the model\"\"\"\n",
    "        pass\n",
    "\n",
    "    def load(self):\n",
    "        \"\"\" This function allows to restore a model\"\"\"\n",
    "        pass"
   ]
  },
  {
   "cell_type": "markdown",
   "metadata": {},
   "source": [
    "***\n",
    "__Question 1__:\n",
    "Explain the function act. Why is ```epsilon``` essential?"
   ]
  },
  {
   "cell_type": "markdown",
   "metadata": {},
   "source": [
    "\n",
    "The function act returns the next action that the agent will do depending on the given state. The action is based on the previous knowledge that the algorithm has already accumulated during the random training, where epsilon is the parameter that controls the exploration.\n",
    "The current algorithm is using the e-greedy strategy, where the epsilon value is essential, because the next action that the algorithm will take is based on it. In this case, if the random number generated is greater than epsilon, then the next action will look for an action based on the learned_act function. But, if the random number is lower or equal than epsilon, then the next act that the function will generate is random.\n"
   ]
  },
  {
   "cell_type": "markdown",
   "metadata": {},
   "source": [
    "***\n",
    "### The Game"
   ]
  },
  {
   "cell_type": "markdown",
   "metadata": {},
   "source": [
    "The ```Agent``` and the ```Environment``` work in an interlaced way as in the following (take some time to understand this code as it is the core of the project)\n",
    "\n",
    "```python\n",
    "\n",
    "epoch = 300\n",
    "env = Environment()\n",
    "agent = Agent()\n",
    "\n",
    "\n",
    "# Number of won games\n",
    "score = 0\n",
    "loss = 0\n",
    "\n",
    "\n",
    "for e in range(epoch):\n",
    "    # At each epoch, we restart to a fresh game and get the initial state\n",
    "    state = env.reset()\n",
    "    # This assumes that the games will end\n",
    "    game_over = False\n",
    "\n",
    "    win = 0\n",
    "    lose = 0\n",
    "    \n",
    "    while not game_over:\n",
    "        # The agent performs an action\n",
    "        action = agent.act(state)\n",
    "\n",
    "        # Apply an action to the environment, get the next state, the reward\n",
    "        # and if the games end\n",
    "        prev_state = state\n",
    "        state, reward, game_over = env.act(action)\n",
    "\n",
    "        # Update the counters\n",
    "        if reward > 0:\n",
    "            win = win + reward\n",
    "        if reward < 0:\n",
    "            lose = lose -reward\n",
    "\n",
    "        # Apply the reinforcement strategy\n",
    "        loss = agent.reinforce(prev_state, state,  action, reward, game_over)\n",
    "\n",
    "    # Save as a mp4\n",
    "    if e % 10 == 0:\n",
    "        env.draw(e)\n",
    "\n",
    "    # Update stats\n",
    "    score += win-lose\n",
    "\n",
    "    print(\"Epoch {:03d}/{:03d} | Loss {:.4f} | Win/lose count {}/{} ({})\"\n",
    "          .format(e, epoch, loss, win, lose, win-lose))\n",
    "    agent.save()\n",
    "```"
   ]
  },
  {
   "cell_type": "markdown",
   "metadata": {},
   "source": [
    "# The game, *eat cheese*"
   ]
  },
  {
   "cell_type": "markdown",
   "metadata": {},
   "source": [
    "A rat runs on an island and tries to eat as much as possible. The island is subdivided into $N\\times N$ cells, in which there are cheese (+0.5) and poisonous cells (-1). The rat has a visibility of 2 cells (thus it can see $5^2$ cells). The rat is given a time $T$ to accumulate as much food as possible. It can perform 4 actions: going up, down, left, right. \n",
    "\n",
    "The goal is to code an agent to solve this task that will learn by trial and error. We propose the following environment:"
   ]
  },
  {
   "cell_type": "code",
   "execution_count": 18,
   "metadata": {},
   "outputs": [],
   "source": [
    "class Environment(object):\n",
    "    def __init__(self, grid_size=10, max_time=500, temperature=0.1):\n",
    "        grid_size = grid_size+4\n",
    "        self.grid_size = grid_size\n",
    "        self.max_time = max_time\n",
    "        self.temperature = temperature\n",
    "\n",
    "        #board on which one plays\n",
    "        self.board = np.zeros((grid_size,grid_size))\n",
    "        self.position = np.zeros((grid_size,grid_size))\n",
    "\n",
    "        # coordinate of the rat\n",
    "        self.x = 0\n",
    "        self.y = 1\n",
    "\n",
    "        # self time\n",
    "        self.t = 0\n",
    "\n",
    "        self.scale=16\n",
    "\n",
    "        self.to_draw = np.zeros((max_time+2, grid_size*self.scale, grid_size*self.scale, 3))\n",
    "\n",
    "\n",
    "    def draw(self,e):\n",
    "        skvideo.io.vwrite(str(e) + '.mp4', self.to_draw)\n",
    "\n",
    "    def get_frame(self,t):\n",
    "        b = np.zeros((self.grid_size,self.grid_size,3))+128\n",
    "        b[self.board>0,0] = 256\n",
    "        b[self.board < 0, 2] = 256\n",
    "        b[self.x,self.y,:]=256\n",
    "        b[-2:,:,:]=0\n",
    "        b[:,-2:,:]=0\n",
    "        b[:2,:,:]=0\n",
    "        b[:,:2,:]=0\n",
    "        \n",
    "        b =  cv2.resize(b, None, fx=self.scale, fy=self.scale, interpolation=cv2.INTER_NEAREST)\n",
    "\n",
    "        self.to_draw[t,:,:,:]=b\n",
    "\n",
    "\n",
    "    def act(self, action):\n",
    "        \"\"\"This function returns the new state, reward and decides if the\n",
    "        game ends.\"\"\"\n",
    "\n",
    "        self.get_frame(int(self.t))\n",
    "\n",
    "        self.position = np.zeros((self.grid_size, self.grid_size))\n",
    "\n",
    "        self.position[0:2,:]= -1\n",
    "        self.position[:,0:2] = -1\n",
    "        self.position[-2:, :] = -1\n",
    "        self.position[:,-2:] = -1   #Corrected\n",
    "\n",
    "        self.position[self.x, self.y] = 1\n",
    "        if action == 0:\n",
    "            if self.x == self.grid_size-3:\n",
    "                self.x = self.x-1\n",
    "            else:\n",
    "                self.x = self.x + 1\n",
    "        elif action == 1:\n",
    "            if self.x == 2:\n",
    "                self.x = self.x+1\n",
    "            else:\n",
    "                self.x = self.x-1\n",
    "        elif action == 2:\n",
    "            if self.y == self.grid_size - 3:\n",
    "                self.y = self.y - 1\n",
    "            else:\n",
    "                self.y = self.y + 1\n",
    "        elif action == 3:\n",
    "            if self.y == 2:\n",
    "                self.y = self.y + 1\n",
    "            else:\n",
    "                self.y = self.y - 1\n",
    "        else:\n",
    "            RuntimeError('Error: action not recognized')\n",
    "\n",
    "        self.t = self.t + 1\n",
    "        reward = self.board[self.x, self.y]\n",
    "        self.board[self.x, self.y] = 0\n",
    "        game_over = self.t > self.max_time\n",
    "        state = np.concatenate((self.board.reshape(self.grid_size, self.grid_size,1),\n",
    "                        self.position.reshape(self.grid_size, self.grid_size,1)),axis=2)\n",
    "        state = state[self.x-2:self.x+3,self.y-2:self.y+3,:]\n",
    "\n",
    "        return state, reward, game_over\n",
    "\n",
    "    def reset(self):\n",
    "        \"\"\"This function resets the game and returns the initial state\"\"\"\n",
    "\n",
    "        self.x = np.random.randint(3, self.grid_size-3, size=1)[0]\n",
    "        self.y = np.random.randint(3, self.grid_size-3, size=1)[0]\n",
    "\n",
    "\n",
    "        bonus = 0.5*np.random.binomial(1,self.temperature,size=self.grid_size**2)\n",
    "        bonus = bonus.reshape(self.grid_size,self.grid_size)\n",
    "\n",
    "        malus = -1.0*np.random.binomial(1,self.temperature,size=self.grid_size**2)\n",
    "        malus = malus.reshape(self.grid_size, self.grid_size)\n",
    "\n",
    "        self.to_draw = np.zeros((self.max_time+2, self.grid_size*self.scale, self.grid_size*self.scale, 3))\n",
    "\n",
    "\n",
    "        malus[bonus>0]=0\n",
    "\n",
    "        self.board = bonus + malus\n",
    "\n",
    "        self.position = np.zeros((self.grid_size, self.grid_size))\n",
    "        self.position[0:2,:]= -1\n",
    "        self.position[:,0:2] = -1\n",
    "        self.position[-2:, :] = -1\n",
    "        self.position[:, -2:] = -1\n",
    "        self.board[self.x,self.y] = 0\n",
    "        self.t = 0\n",
    "\n",
    "        state = np.concatenate((\n",
    "                               self.board.reshape(self.grid_size, self.grid_size,1),\n",
    "                        self.position.reshape(self.grid_size, self.grid_size,1)),axis=2)\n",
    "\n",
    "        state = state[self.x - 2:self.x + 3, self.y - 2:self.y + 3, :]\n",
    "        return state"
   ]
  },
  {
   "cell_type": "markdown",
   "metadata": {},
   "source": [
    "The following elements are important because they correspond to the hyper parameters for this project:"
   ]
  },
  {
   "cell_type": "code",
   "execution_count": 19,
   "metadata": {},
   "outputs": [],
   "source": [
    "# parameters\n",
    "size = 13\n",
    "T=200\n",
    "temperature=0.3\n",
    "epochs_train=25 # set small when debugging\n",
    "epochs_test=25 # set small when debugging\n",
    "\n",
    "# display videos\n",
    "def display_videos(name):\n",
    "    video = io.open(name, 'r+b').read()\n",
    "    encoded = base64.b64encode(video)\n",
    "    return '''<video alt=\"test\" controls>\n",
    "                <source src=\"data:video/mp4;base64,{0}\" type=\"video/mp4\" />\n",
    "             </video>'''.format(encoded.decode('ascii'))"
   ]
  },
  {
   "cell_type": "markdown",
   "metadata": {},
   "source": [
    "__Question 2__ Explain the use of the arrays ```position``` and ```board```."
   ]
  },
  {
   "cell_type": "markdown",
   "metadata": {},
   "source": [
    "___position___: In this array, each cell (x,y) represents the cells where the rat can go. This array contains the value -1 where the rat can't go, the value 0 where the rat can go, and the value 1 where the rat is at the current state.\n",
    "\n",
    "___board___:    In this array, each cell (x,y) represents the reward that the rat can get if it goes to this position of the board."
   ]
  },
  {
   "cell_type": "markdown",
   "metadata": {},
   "source": [
    "## Random Agent"
   ]
  },
  {
   "cell_type": "markdown",
   "metadata": {},
   "source": [
    "***\n",
    "__Question 3__ Implement a random Agent (only ```learned_act``` needs to be implemented):"
   ]
  },
  {
   "cell_type": "code",
   "execution_count": 20,
   "metadata": {},
   "outputs": [],
   "source": [
    "class RandomAgent(Agent):\n",
    "    def __init__(self):\n",
    "        super(RandomAgent, self).__init__()\n",
    "        pass\n",
    "\n",
    "    def learned_act(self, s):\n",
    "        \"\"\" Act via the policy of the agent, from a given state s\n",
    "        it proposes an action a\"\"\"\n",
    "        a = np.random.randint(0, self.n_action, size=1)[0]\n",
    "        return a"
   ]
  },
  {
   "cell_type": "markdown",
   "metadata": {},
   "source": [
    "***\n",
    "***\n",
    "__Question 4__ Visualize the game moves. You need to fill in the following function for the evaluation:"
   ]
  },
  {
   "cell_type": "code",
   "execution_count": 21,
   "metadata": {},
   "outputs": [],
   "source": [
    "def test(agent,env,epochs,prefix=''):\n",
    "    # Number of won games\n",
    "    score = 0\n",
    "        \n",
    "    for e in range(epochs):\n",
    "        # At each epoch, we restart to a fresh game and get the initial state    \n",
    "        state = env.reset()\n",
    "        # This assumes that the games will end\n",
    "        game_over = False\n",
    "        # We start the variables win and lose to acumulate the rewards gotten during the training\n",
    "        win = 0\n",
    "        lose = 0\n",
    "\n",
    "        while not game_over:\n",
    "            # The agent performs an action\n",
    "            action = agent.act(state, train=False)\n",
    "\n",
    "            # Apply an action to the environment, get the next state, the reward\n",
    "            # and if the games end\n",
    "            prev_state = state\n",
    "            state, reward, game_over = env.act(action)\n",
    "\n",
    "            # Update the counters\n",
    "            if reward > 0:\n",
    "                win  = win + reward\n",
    "            if reward < 0:\n",
    "                lose = lose - reward\n",
    "        \n",
    "        # Save as a mp4\n",
    "        env.draw(prefix+str(e))\n",
    "\n",
    "        # Update stats\n",
    "        score = score + win-lose\n",
    "\n",
    "        print(\"Epoch {}: Win/lose count {}/{}. Average score ({})\"\n",
    "              .format(e+1, win, lose, score/(1+e)))\n",
    "    print('Final score: '+str(score/epochs))"
   ]
  },
  {
   "cell_type": "code",
   "execution_count": 22,
   "metadata": {},
   "outputs": [
    {
     "name": "stdout",
     "output_type": "stream",
     "text": [
      "Epoch 1: Win/lose count 11.5/14.0. Average score (-2.5)\n",
      "Epoch 2: Win/lose count 12.5/15.0. Average score (-2.5)\n",
      "Epoch 3: Win/lose count 10.0/15.0. Average score (-3.3333333333333335)\n",
      "Epoch 4: Win/lose count 9.5/10.0. Average score (-2.625)\n",
      "Epoch 5: Win/lose count 5.5/10.0. Average score (-3.0)\n",
      "Epoch 6: Win/lose count 10.5/13.0. Average score (-2.9166666666666665)\n",
      "Epoch 7: Win/lose count 8.0/19.0. Average score (-4.071428571428571)\n",
      "Epoch 8: Win/lose count 10.0/11.0. Average score (-3.6875)\n",
      "Epoch 9: Win/lose count 8.5/12.0. Average score (-3.6666666666666665)\n",
      "Epoch 10: Win/lose count 8.0/18.0. Average score (-4.3)\n",
      "Epoch 11: Win/lose count 7.5/9.0. Average score (-4.045454545454546)\n",
      "Epoch 12: Win/lose count 8.5/17.0. Average score (-4.416666666666667)\n",
      "Epoch 13: Win/lose count 11.5/12.0. Average score (-4.115384615384615)\n",
      "Epoch 14: Win/lose count 8.0/18.0. Average score (-4.535714285714286)\n",
      "Epoch 15: Win/lose count 7.5/20.0. Average score (-5.066666666666666)\n",
      "Epoch 16: Win/lose count 12.5/7.0. Average score (-4.40625)\n",
      "Epoch 17: Win/lose count 9.0/15.0. Average score (-4.5)\n",
      "Epoch 18: Win/lose count 12.5/8.0. Average score (-4.0)\n",
      "Epoch 19: Win/lose count 11.0/14.0. Average score (-3.9473684210526314)\n",
      "Epoch 20: Win/lose count 10.0/14.0. Average score (-3.95)\n",
      "Epoch 21: Win/lose count 9.5/11.0. Average score (-3.8333333333333335)\n",
      "Epoch 22: Win/lose count 12.0/9.0. Average score (-3.522727272727273)\n",
      "Epoch 23: Win/lose count 8.5/7.0. Average score (-3.3043478260869565)\n",
      "Epoch 24: Win/lose count 9.0/13.0. Average score (-3.3333333333333335)\n",
      "Epoch 25: Win/lose count 10.0/4.0. Average score (-2.96)\n",
      "Final score: -2.96\n"
     ]
    },
    {
     "data": {
      "text/html": [
       "<video alt=\"test\" controls>\n",
       "                <source src=\"data:video/mp4;base64,AAAAIGZ0eXBpc29tAAACAGlzb21pc28yYXZjMW1wNDEAAAAIZnJlZQAAGThtZGF0AAACrQYF//+p3EXpvebZSLeWLNgg2SPu73gyNjQgLSBjb3JlIDE1NyByMjkzNSA1NDVkZTJmIC0gSC4yNjQvTVBFRy00IEFWQyBjb2RlYyAtIENvcHlsZWZ0IDIwMDMtMjAxOCAtIGh0dHA6Ly93d3cudmlkZW9sYW4ub3JnL3gyNjQuaHRtbCAtIG9wdGlvbnM6IGNhYmFjPTEgcmVmPTMgZGVibG9jaz0xOjA6MCBhbmFseXNlPTB4MToweDExMSBtZT1oZXggc3VibWU9NyBwc3k9MSBwc3lfcmQ9MS4wMDowLjAwIG1peGVkX3JlZj0xIG1lX3JhbmdlPTE2IGNocm9tYV9tZT0xIHRyZWxsaXM9MSA4eDhkY3Q9MCBjcW09MCBkZWFkem9uZT0yMSwxMSBmYXN0X3Bza2lwPTEgY2hyb21hX3FwX29mZnNldD00IHRocmVhZHM9OCBsb29rYWhlYWRfdGhyZWFkcz0xIHNsaWNlZF90aHJlYWRzPTAgbnI9MCBkZWNpbWF0ZT0xIGludGVybGFjZWQ9MCBibHVyYXlfY29tcGF0PTAgY29uc3RyYWluZWRfaW50cmE9MCBiZnJhbWVzPTMgYl9weXJhbWlkPTIgYl9hZGFwdD0xIGJfYmlhcz0wIGRpcmVjdD0xIHdlaWdodGI9MSBvcGVuX2dvcD0wIHdlaWdodHA9MiBrZXlpbnQ9MjUwIGtleWludF9taW49MjUgc2NlbmVjdXQ9NDAgaW50cmFfcmVmcmVzaD0wIHJjX2xvb2thaGVhZD00MCByYz1jcmYgbWJ0cmVlPTEgY3JmPTIzLjAgcWNvbXA9MC42MCBxcG1pbj0wIHFwbWF4PTY5IHFwc3RlcD00IGlwX3JhdGlvPTEuNDAgYXE9MToxLjAwAIAAAALeZYiEADf//vaH+BTZWBP+Wb/9DX/cj9uPrP1xYyEE31qvIejAGS+1H+b/rFFs6Z6UB/fgCJQAc24ZwpHZJ3jjgNSrIMcHwKauk6vwKShNuAtv4T/NTbJHQ8+JhR24KlwNvWjL3tIoXJKRlFCwm0e3BLarckkB/HNeDhNSb/UlvBcf1z66CM2BvZmfUK4gclxS+OQwIYY8ydU/H0F6iUlOiGoXENDpzjHLmvajyO6aLuND0HtfOKGw3ccN3/A/0JZy3wLWsbuGicI2feItS+2qa1MkRLr8NenQOxCePL94zw13j2pvPBnzzPrn1VPwN1jJAPwma8i3/9f9VltR/zBYQ95u8u+tuGqy0QoT+k/22ag+qsCJmaUJ5F3nsWandSr6ZAKECN8FkGNpvlVqdEwQSaQP0k1vOOQsnKCXvMsmcK6UDUd32brxADFUJXuv9h49698iLtov2BhmFeis7WaAAqZqRyCzcs58tvBKQtMihVxJext/rjYnYBbY6LOqzGcS1U3IaLMoeRnGoXjt6SSxbjvgDuIUrMCoBn4Ir73mx6OpJ/030fG0JT5JpAnZFIBx1C2tPYGozCqzAazxBbOIAIsJEV4LvBdiII35h4a8cpmdA7QST5xG9vocWTwAD0BUsCaz7SrEWJo/vBcVH/lmRbodRddXC0BeV4Tjwzu8ewEAJ/frqeyfejubkx4d4+6MgkKKlpOBXtu2E3aUDrr3NJjMU0VikZgRGdIn+qj1/0FNCNAtyTMROos/09Pl+VhmN16p3sp7FTdK6fhGXAYQ+MBqirP8YASGcR57umHlMNt8vFZ6ZfOkYN2awWG/uQkO6S8oAqmiNYf8ndifG5Or1DqdNQfQLqUs1p2S4PB0LMWzbExPsn1PbVnQMBEGM7hiZihjVrfOIXZjZ56empxdLbTMDFA2lga/f6IRa2kE7BZyf4Mi8zTLhAKHzISQ364YxgqTi5/dAyxdNYAAKyEAAAATQZoibEN//qeEACx/H6BO/5eWYAAAABABnkF5Cv8AI8IA6E5XIR8xAAAAHEGaRjwhkymEM//+nhAAsNe5rjn6PuG7r7+bkWAAAAAPQZ5kalPC/wAbBVo2k821AAAADwGeg3RCvwAX55N55xdUgQAAAA8BnoVqQr8AJLsR5MD17pcAAAAYQZqHSahBaJlMCGf//p4QAQ04Rz9L+5Q/AAAAG0GaqEnhClJlMCGf/p4QAaWQxz+HPiApn6zdwAAAABdBmslJ4Q6JlMCGf/6eEAGvX3GCOux2LAAAABhBmupJ4Q8mUwIZ//6eEAGx9ffyJEfWEfMAAAAYQZsLSeEPJlMCGf/+nhABFviH9shj6wmLAAAAGEGbLEnhDyZTAhn//p4QALZ7pvoqVmvhXgAAAB1Bm05J4Q8mUwURPDP//p4QAHR9ff0K6NkxbBVTcQAAABABn21qQr8AGIJbTrwBQECBAAAAGkGbb0nhDyZTAhn//p4QADE+x8CE9aOXucpnAAAAGEGbkEnhDyZTAhn//p4QAElOEc/hzm+ujgAAABhBm7FJ4Q8mUwIZ//6eEABLRDj+eC/kiwwAAAAYQZvSSeEPJlMCGf/+nhAAS74h/bIY+sNtAAAAGEGb80nhDyZTAhn//p4QADE+vu7Tm7i6/AAAABlBmhRJ4Q8mUwIb//6nhAAS1AFm22fZ84vAAAAAGUGaNUnhDyZTAhv//qeEABzzjP9VvmPxOOEAAAAmQZpZSeEPJlMCG//+p4QAMT8CVzmWVz3j8ClS2fgUzsDFr80XR1cAAAAVQZ53RRE8L/8AHQT1jA9M4tfPdJbhAAAADwGelnRCvwAlvpO4NkvIBwAAABABnphqQr8AJ9YR5LmfJWaAAAAAGUGamkmoQWiZTAhv//6nhABLUAWbYxQlS8EAAAAdQZq8SeEKUmUwURLDf/6nhABLvo58kz0/sFwEEdgAAAAPAZ7bakK/ADzApTNsyNdtAAAAGUGa3UnhDomUwId//qmWADeVIM0AekvsBlEAAAAbQZrhSeEPJlMCG//+p4QAcb2D+bS6l3FZm4l4AAAAFEGfH0URPC//AGmSS5M22m+mPyHlAAAADwGfPnRCvwCO+k7g2S8aJwAAABABnyBqQr8AjsrkVeAJ/TWAAAAAEkGbJUmoQWiZTAhv//6nhAABJwAAABNBn0NFESwv/wAsWS2amZZchodMAAAAEAGfYnRCvwA7XFFwH2cyQmEAAAAQAZ9kakK/ADts8C6/WKSEwQAAABxBm2ZJqEFsmUwIb//+p4QAcQ4z/Vb6qBCf3ULhAAAAGEGbh0nhClJlMCG//qeEALB6J/qUgFTbQQAAABpBm6tJ4Q6JlMCG//6nhAEEHzVNZty9Oo8esAAAABBBn8lFETwv/wCfMsVCCgLgAAAAEAGf6HRCvwDXyaET4sxRrukAAAAPAZ/qakK/ANfYsC6/v3ugAAAAGkGb7EmoQWiZTAh3//6plgCIFHOtED//nkUnAAAAG0GaD0nhClJlMCHf/qmWAIwUc60QIA/v7YAx4QAAAA9Bni1FNEwr/wDiArhrR8EAAAAPAZ5OakK/AOIrg2CQApnxAAAAG0GaU0moQWiZTAhv//6nhAC1/Gn8RdsD++6bKAAAABRBnnFFESwv/wCoQKxWHYPck32DwAAAABABnpB0Qr8A4fFFwH5P/0HhAAAAEAGekmpCvwDiM8C6/tw+g8AAAAAZQZqUSahBbJlMCHf//qmWAIwqcADDp9RSQAAAABpBmrhJ4QpSZTAh3/6plgCQKCflb/faX3OekQAAABBBntZFNEwv/wCs0CClDB6YAAAADwGe9XRCvwCS2jFwH5agwQAAABABnvdqQr8A57PAuv1ikUbBAAAAMUGa/EmoQWiZTAhv//6nhAfsIXHxCO8v/8JUIJYv/8IzFYv/8JPgP8UEoCp/dqf5Qm4AAAAQQZ8aRREsL/8BshopTLJMwQAAABABnzl0Qr8CSRhhA6ZHcfuAAAAADwGfO2pCvwJJYDjA/LBzQQAAABhBmz9JqEFsmUwIb//+p4QHs+k18UJ4AScAAAAPQZ9dRRUsK/8CSA/TGF3AAAAADQGffmpCvwJJYD00g5oAAAAaQZtgSahBbJlMCG///qeEAgvjp9HQoSFI7oEAAAAcQZuESeEKUmUwIb/+p4QBJfjp7vNzk8DwbpDCtgAAABNBn6JFNEwv/wEO8RNQSwnnVCDxAAAADwGfwXRCvwF1zJ3Bsl4xqwAAABABn8NqQr8BdW3Iq8AT+UGBAAAAHEGbxkmoQWiZTBTwz/6eEALp7pvte85VuKs3tuEAAAAQAZ/lakK/AJrLIYfQEg4s+QAAABlBm+dJ4QpSZTAhv/6nhAB+weFGoqAHttgxAAAAHUGaCUnhDomUwU0TDP/+nhAB8vX39Qt7muPrS+igAAAAEAGeKGpCvwBsGbmuPFW0lCAAAAAZQZoqSeEPJlMCG//+p4QAVr3U/UcaEhxNwQAAABlBmktJ4Q8mUwIb//6nhAA3fsH+E4LdCWfAAAAAFUGab0nhDyZTAhn//p4QAIaIcf4ImwAAAA5Bno1FETwv/wAVBlQ1IQAAABABnqx0Qr8AHLUN3Tsuy0qBAAAAEAGermpCvwActQ3sVo+3yYEAAAAaQZqwSahBaJlMCG///qeEADc0if6rgMfiO6AAAAAeQZrSSeEKUmUwURLDf/6nhAA3fsH82l3MrNU1ud8NAAAAEAGe8WpCvwAtbXznWhhecsEAAAAYQZrzSeEOiZTAhv/+p4QAIt8dMf4fVtxnAAAAGkGbFEnhDyZTAhv//qeEACHfS6efH+H1bccQAAAAGkGbOEnhDyZTAhv//qeEACDfHT7rggW6LZ1hAAAAEEGfVkURPC//ABPqBFaUV7gAAAAPAZ91dEK/ACodAOhOS/DBAAAAEAGfd2pCvwAbpK2LDWGSWpEAAAAaQZt5SahBaJlMCHf//qmWAAs3vq+uxBuKl9AAAAAbQZucSeEKUmUwIb/+p4QADng8KdZ0+nc0lv5PAAAAEEGfukU0TCv/AAvxGf5ogbAAAAAQAZ/bakK/AAvOonkR1/CKwQAAABhBm99JqEFomUwIb//+p4QADo++zNgUFucAAAASQZ/9RREsK/8AC/EeiAUwDoPAAAAADgGeHmpCvwAL9YlXU6gbAAAAGUGaAkmoQWyZTAhv//6nhAAON7B69mfBFu8AAAAPQZ4gRRUsK/8AC6NbhwlAAAAADQGeQWpCvwALpykW+EsAAAAXQZpGSahBbJlMCG///qeEAA2PsH+YEoAAAAAOQZ5kRRUsL/8AB+/3JqEAAAAPAZ6DdEK/AAs9lHEdl2Y/AAAADwGehWpCvwALoo0QWo8wMwAAABpBmodJqEFsmUwIb//+p4QADd+wf4Tgt0KnQQAAABtBmqpJ4QpSZTAhn/6eEAAi3xD+Lo6inH1wl0AAAAASQZ7IRTRMK/8AB0AXnOsnyjuAAAAAEAGe6WpCvwAHFCJmm+kg83EAAAAZQZrrSahBaJlMCG///qeEAAX11aQQif5cYwAAABlBmwxJ4QpSZTAhv/6nhAAJKgCzbbPs+e1AAAAAGEGbL0nhDomUwIb//qeEAAlo+Y8jE/y4DQAAABJBn01FETwr/wALpg67zGDtWt0AAAAPAZ9uakK/AAujchiNKlbhAAAAGUGbcEmoQWiZTAhv//6nhAAOecZ/qUgFi8AAAAAhQZuSSeEKUmUwURLDf/6nhAAi3w58yyxMjuI4Z5eX76VAAAAAEAGfsWpCvwAcVngXX9uIC8EAAAARQZu2SeEOiZTAhv/+p4QAAScAAAATQZ/URRU8L/8AILHzpnFdT2JoxAAAABABn/N0Qr8ALXlqgdO1DeWBAAAAEAGf9WpCvwAtbXznWhhecsAAAAAZQZv5SahBaJlMCGf//p4QAId8Q/tkMfWFlQAAAA9BnhdFESwr/wAcUH/NYOEAAAAPAZ44akK/ABJg0DyYI56AAAAAGUGaOkmoQWyZTAhn//6eEABY/dN9FSs18e8AAAAZQZpbSeEKUmUwIb/+p4QADo+wf4Tgt0KiQAAAAB1Bmn1J4Q6JlMFNEw3//qeEAAl3x0+5kYWzFCOeTQAAABABnpxqQr8AB5ggPgPr+CAxAAAAGEGanknhDyZTAhv//qeEAAX/2D17M+CMTQAAABlBmr9J4Q8mUwId//6plgAC8e+rKrM2zErAAAAAHkGaw0nhDyZTAh3//qmWAASBakZoDu+jHhjNFvOOEQAAABFBnuFFETwv/wAFZoEFJ4QwiAAAAA8BnwB0Qr8ABJbQgMku8IEAAAAQAZ8CakK/AAdBnhDxoa0KgAAAABJBmwdJqEFomUwIb//+p4QAAScAAAAMQZ8lRREsL/8AALKBAAAADwGfRHRCvwAHbbA0POeYkwAAAA8Bn0ZqQr8AB2ucNErnmJMAAAAdQZtJSahBbJlMFEw7//6plgAEh+PP5dntQshS6T8AAAAPAZ9oakK/AAdAH9UigSxHAAAAHUGbbUnhClJlMCG//qeEAAWz3U/daWZqbc+82siJAAAAFUGfi0U0TC//AANgI43+UrR+uRW5EAAAABABn6p0Qr8ABJXVoyS3+2OAAAAAEAGfrGpCvwADEOqeS5nzBYEAAAAaQZuwSahBaJlMCG///qeEAAPKDwp1nT7sUYEAAAARQZ/ORREsK/8AAyTq2CQlcSEAAAAOAZ/vakK/AAMk6+K4GAQAAAAaQZvxSahBbJlMCHf//qmWAAHzHT8pox+tY8AAAAAnQZoVSeEKUmUwIb/+p4QACXfTDV8CmvqFfgUqWz8CmdgYoF1Ya+XVAAAAFUGeM0U0TC//AAWugRSkdM5Y0Jn6kAAAABABnlJ0Qr8ABR8tUDp2onyAAAAAEAGeVGpCvwAHmZ8xuhyQePkAAAAeQZpXSahBaJlMFPDv/qmWAAd0dQLRJuUb5HQdv16aAAAAEAGedmpCvwAMQ6p5MD18NIEAAAAYQZp7SeEKUmUwIb/+p4QADuewf5yoqnudAAAAEEGemUU0TC//AAjufs3BEnAAAAAPAZ64dEK/ABLhAHQnJiDBAAAAEAGeumpCvwAMQR251oYX30AAAAAcQZq9SahBaJlMFPDf/qeEAAl3x0+5kYWzFCOeTQAAAA8BntxqQr8AB5gf1SKBLDEAAAAYQZrASeEKUmUwIb/+p4QABf/YPXsz4IxNAAAAEkGe/kU0TCv/AATWUAQCmAd3QAAAABABnx9qQr8ABLdohNxn17FZAAAAHEGbAkmoQWiZTBTw7/6plgAEYKOoQZoFPox+nNwAAAAQAZ8hakK/AAcVnzG6HJB5uQAAAB1BmyVJ4QpSZTAhv/6nhAAIt8dPfLQOH8TQW6RG0AAAABJBn0NFNEwr/wAHFBec6yfKP4EAAAAOAZ9kakK/AAcWvpwNqs0AAAAbQZtpSahBaJlMCG///qeEAAjqzR/QzN7qfHPxAAAAEEGfh0URLC//AAVmgQUobxkAAAAPAZ+mdEK/AASW0YuA/PPAAAAAEAGfqGpCvwAHQZg8mB6+YoAAAAAaQZuqSahBbJlMCHf//qmWAASgo51oer75S8EAAAAaQZvOSeEKUmUwIb/+p4QADc3UrNua8dPtfWAAAAAQQZ/sRTRML/8ACC5+5wsyGAAAAA8Bngt0Qr8AB5mwNdfGRIEAAAAQAZ4NakK/AAuijRMiaVoJQQAAABxBmhBJqEFomUwU8N/+p4QADd+wf5ynXhRrcyU5AAAAEAGeL2pCvwALW1851oYX5sAAAAAcQZoySeEKUmUwUsN//qeEAAi3x0+5kYWzFCOezAAAAA8BnlFqQr8ABxQf1SKBLFEAAAAYQZpVSeEOiZTAhn/+nhAAIKcI5/DnN9iSAAAAEkGec0UVPCv/AAbp2oEJGP4ZQAAAAA4BnpRqQr8ABunarp+sSwAAACBBmpdJqEFomUwU8M/+nhAAT/3hrnAptLdrguR+M+nV3gAAABABnrZqQr8AEF2eOV/biDzBAAAAGEGauEnhClJlMCGf/p4QAE/902MuTZVylQAAABhBmtlJ4Q6JlMCGf/6eEABNvnN9shj6w2UAAAAYQZr6SeEPJlMCG//+p4QADO+wevZnwRcTAAAAHkGbHEnhDyZTBRE8N//+p4QADJ+wf5a6QatmKEiiJQAAAA8BnztqQr8ACjtt0o0h5CEAAAAZQZs9SeEPJlMCG//+p4QADD0if6rfMfjDwQAAAB9Bm19J4Q8mUwURPDf//qeEABJR81TWbc146fCGc4wcAAAAEAGffmpCvwAO2z5jdDkg6jgAAAAaQZtjSeEPJlMCGf/+nhAAR74h/Hw+gyJOUycAAAARQZ+BRRE8L/8ACxT5ijJmNZwAAAAPAZ+gdEK/AA7ZegMkugWBAAAAEAGfompCvwAPMrg1x4q2uiAAAAAZQZukSahBaJlMCGf//p4QAC/+vv5EiPrEPwAAABhBm8VJ4QpSZTAhn/6eEAAef193ac3cXs8AAAAaQZvpS+EIQ6JEYIKAfyAf2HgCFf/+OEAAEXEAAAAmQZ4HRRE8L/8CAdzqS9szCrmA6Bq1qFwJQBlok8LfMpUCAsfSv/kAAAAQAZ4mdEK/AAY3OTvwAfc5QAAAACYBnihqQr8Cr2PtQcTdqsNJJuWqhgcstbvNKiCaPY2g4QUtKkixsAAAC4htb292AAAAbG12aGQAAAAAAAAAAAAAAAAAAAPoAAAfkAABAAABAAAAAAAAAAAAAAAAAQAAAAAAAAAAAAAAAAAAAAEAAAAAAAAAAAAAAAAAAEAAAAAAAAAAAAAAAAAAAAAAAAAAAAAAAAAAAAAAAAACAAAKsnRyYWsAAABcdGtoZAAAAAMAAAAAAAAAAAAAAAEAAAAAAAAfkAAAAAAAAAAAAAAAAAAAAAAAAQAAAAAAAAAAAAAAAAAAAAEAAAAAAAAAAAAAAAAAAEAAAAABEAAAARAAAAAAACRlZHRzAAAAHGVsc3QAAAAAAAAAAQAAH5AAAAQAAAEAAAAACiptZGlhAAAAIG1kaGQAAAAAAAAAAAAAAAAAADIAAAGUAFXEAAAAAAAtaGRscgAAAAAAAAAAdmlkZQAAAAAAAAAAAAAAAFZpZGVvSGFuZGxlcgAAAAnVbWluZgAAABR2bWhkAAAAAQAAAAAAAAAAAAAAJGRpbmYAAAAcZHJlZgAAAAAAAAABAAAADHVybCAAAAABAAAJlXN0YmwAAACVc3RzZAAAAAAAAAABAAAAhWF2YzEAAAAAAAAAAQAAAAAAAAAAAAAAAAAAAAABEAEQAEgAAABIAAAAAAAAAAEAAAAAAAAAAAAAAAAAAAAAAAAAAAAAAAAAAAAAAAAAAAAY//8AAAAvYXZjQwH0AA3/4QAXZ/QADZGbKCIR0IAAAAMAgAAAGQeKFMsBAAVo6+PESAAAABhzdHRzAAAAAAAAAAEAAADKAAACAAAAABRzdHNzAAAAAAAAAAEAAAABAAAFYGN0dHMAAAAAAAAAqgAAAAEAAAQAAAAAAQAABgAAAAABAAACAAAAAAEAAAoAAAAAAQAABAAAAAABAAAAAAAAAAEAAAIAAAAABgAABAAAAAABAAAGAAAAAAEAAAIAAAAABwAABAAAAAABAAAKAAAAAAEAAAQAAAAAAQAAAAAAAAABAAACAAAAAAEAAAQAAAAAAQAABgAAAAABAAACAAAAAAEAAAQAAAAAAQAACgAAAAABAAAEAAAAAAEAAAAAAAAAAQAAAgAAAAABAAAKAAAAAAEAAAQAAAAAAQAAAAAAAAABAAACAAAAAAIAAAQAAAAAAQAACgAAAAABAAAEAAAAAAEAAAAAAAAAAQAAAgAAAAABAAAEAAAAAAEAAAgAAAAAAgAAAgAAAAABAAAKAAAAAAEAAAQAAAAAAQAAAAAAAAABAAACAAAAAAEAAAQAAAAAAQAACgAAAAABAAAEAAAAAAEAAAAAAAAAAQAAAgAAAAABAAAKAAAAAAEAAAQAAAAAAQAAAAAAAAABAAACAAAAAAEAAAgAAAAAAgAAAgAAAAABAAAEAAAAAAEAAAoAAAAAAQAABAAAAAABAAAAAAAAAAEAAAIAAAAAAQAABgAAAAABAAACAAAAAAEAAAQAAAAAAQAABgAAAAABAAACAAAAAAIAAAQAAAAAAQAACgAAAAABAAAEAAAAAAEAAAAAAAAAAQAAAgAAAAABAAAEAAAAAAEAAAYAAAAAAQAAAgAAAAACAAAEAAAAAAEAAAoAAAAAAQAABAAAAAABAAAAAAAAAAEAAAIAAAAAAQAABAAAAAABAAAIAAAAAAIAAAIAAAAAAQAACAAAAAACAAACAAAAAAEAAAgAAAAAAgAAAgAAAAABAAAKAAAAAAEAAAQAAAAAAQAAAAAAAAABAAACAAAAAAEAAAQAAAAAAQAACAAAAAACAAACAAAAAAIAAAQAAAAAAQAACAAAAAACAAACAAAAAAEAAAQAAAAAAQAABgAAAAABAAACAAAAAAEAAAoAAAAAAQAABAAAAAABAAAAAAAAAAEAAAIAAAAAAQAACAAAAAACAAACAAAAAAIAAAQAAAAAAQAABgAAAAABAAACAAAAAAIAAAQAAAAAAQAACgAAAAABAAAEAAAAAAEAAAAAAAAAAQAAAgAAAAABAAAKAAAAAAEAAAQAAAAAAQAAAAAAAAABAAACAAAAAAEAAAYAAAAAAQAAAgAAAAABAAAKAAAAAAEAAAQAAAAAAQAAAAAAAAABAAACAAAAAAEAAAgAAAAAAgAAAgAAAAABAAAEAAAAAAEAAAoAAAAAAQAABAAAAAABAAAAAAAAAAEAAAIAAAAAAQAABgAAAAABAAACAAAAAAEAAAoAAAAAAQAABAAAAAABAAAAAAAAAAEAAAIAAAAAAQAABgAAAAABAAACAAAAAAEAAAgAAAAAAgAAAgAAAAABAAAGAAAAAAEAAAIAAAAAAQAACAAAAAACAAACAAAAAAEAAAoAAAAAAQAABAAAAAABAAAAAAAAAAEAAAIAAAAAAQAABAAAAAABAAAKAAAAAAEAAAQAAAAAAQAAAAAAAAABAAACAAAAAAEAAAYAAAAAAQAAAgAAAAABAAAGAAAAAAEAAAIAAAAAAQAACAAAAAACAAACAAAAAAEAAAYAAAAAAQAAAgAAAAADAAAEAAAAAAEAAAYAAAAAAQAAAgAAAAABAAAEAAAAAAEAAAYAAAAAAQAAAgAAAAABAAAKAAAAAAEAAAQAAAAAAQAAAAAAAAABAAACAAAAAAIAAAQAAAAAAQAACgAAAAABAAAEAAAAAAEAAAAAAAAAAQAAAgAAAAAcc3RzYwAAAAAAAAABAAAAAQAAAMoAAAABAAADPHN0c3oAAAAAAAAAAAAAAMoAAAWTAAAAFwAAABQAAAAgAAAAEwAAABMAAAATAAAAHAAAAB8AAAAbAAAAHAAAABwAAAAcAAAAIQAAABQAAAAeAAAAHAAAABwAAAAcAAAAHAAAAB0AAAAdAAAAKgAAABkAAAATAAAAFAAAAB0AAAAhAAAAEwAAAB0AAAAfAAAAGAAAABMAAAAUAAAAFgAAABcAAAAUAAAAFAAAACAAAAAcAAAAHgAAABQAAAAUAAAAEwAAAB4AAAAfAAAAEwAAABMAAAAfAAAAGAAAABQAAAAUAAAAHQAAAB4AAAAUAAAAEwAAABQAAAA1AAAAFAAAABQAAAATAAAAHAAAABMAAAARAAAAHgAAACAAAAAXAAAAEwAAABQAAAAgAAAAFAAAAB0AAAAhAAAAFAAAAB0AAAAdAAAAGQAAABIAAAAUAAAAFAAAAB4AAAAiAAAAFAAAABwAAAAeAAAAHgAAABQAAAATAAAAFAAAAB4AAAAfAAAAFAAAABQAAAAcAAAAFgAAABIAAAAdAAAAEwAAABEAAAAbAAAAEgAAABMAAAATAAAAHgAAAB8AAAAWAAAAFAAAAB0AAAAdAAAAHAAAABYAAAATAAAAHQAAACUAAAAUAAAAFQAAABcAAAAUAAAAFAAAAB0AAAATAAAAEwAAAB0AAAAdAAAAIQAAABQAAAAcAAAAHQAAACIAAAAVAAAAEwAAABQAAAAWAAAAEAAAABMAAAATAAAAIQAAABMAAAAhAAAAGQAAABQAAAAUAAAAHgAAABUAAAASAAAAHgAAACsAAAAZAAAAFAAAABQAAAAiAAAAFAAAABwAAAAUAAAAEwAAABQAAAAgAAAAEwAAABwAAAAWAAAAFAAAACAAAAAUAAAAIQAAABYAAAASAAAAHwAAABQAAAATAAAAFAAAAB4AAAAeAAAAFAAAABMAAAAUAAAAIAAAABQAAAAgAAAAEwAAABwAAAAWAAAAEgAAACQAAAAUAAAAHAAAABwAAAAcAAAAIgAAABMAAAAdAAAAIwAAABQAAAAeAAAAFQAAABMAAAAUAAAAHQAAABwAAAAeAAAAKgAAABQAAAAqAAAAFHN0Y28AAAAAAAAAAQAAADAAAABidWR0YQAAAFptZXRhAAAAAAAAACFoZGxyAAAAAAAAAABtZGlyYXBwbAAAAAAAAAAAAAAAAC1pbHN0AAAAJal0b28AAAAdZGF0YQAAAAEAAAAATGF2ZjU4LjIwLjEwMA==\" type=\"video/mp4\" />\n",
       "             </video>"
      ],
      "text/plain": [
       "<IPython.core.display.HTML object>"
      ]
     },
     "execution_count": 22,
     "metadata": {},
     "output_type": "execute_result"
    }
   ],
   "source": [
    "# Initialize the game\n",
    "env = Environment(grid_size=size, max_time=T,temperature=temperature)\n",
    "\n",
    "# Initialize the agent!\n",
    "agent = RandomAgent()\n",
    "\n",
    "test(agent,env,epochs_test,prefix='random')\n",
    "HTML(display_videos('random0.mp4'))"
   ]
  },
  {
   "cell_type": "markdown",
   "metadata": {},
   "source": [
    "***\n",
    "## DQN"
   ]
  },
  {
   "cell_type": "markdown",
   "metadata": {},
   "source": [
    "Let us assume here that $T=\\infty$.\n",
    "\n",
    "***\n",
    "__Question 5__ Let $\\pi$ be a policy, show that:\n",
    "\n",
    "\\begin{equation*}\n",
    "Q^{\\pi}(s,a)=E_{(s',a')\\sim p(.|s,a)}[r(s,a)+\\gamma Q^{\\pi}(s',a')]\n",
    "\\end{equation*}\n",
    "\n",
    "Then, show that for the optimal policy $\\pi^*$ (we assume its existence), the following holds: \n",
    "\n",
    "\\begin{equation*}\n",
    "Q^{*}(s,a)=E_{s'\\sim \\pi^*(.|s,a)}[r(s,a)+\\gamma\\max_{a'}Q^{*}(s',a')].\n",
    "\\end{equation*}\n",
    "Finally, deduce that a plausible objective is:\n",
    "\n",
    "\\begin{equation*}\n",
    "\\mathcal{L}(\\theta)=E_{s' \\sim \\pi^*(.|s,a)}\\Vert r+\\gamma\\max\\max_{a'}Q(s',a',\\theta)-Q(s,a,\\theta)\\Vert^{2}.\n",
    "\\end{equation*}\n",
    "\n",
    "\n"
   ]
  },
  {
   "cell_type": "markdown",
   "metadata": {},
   "source": [
    "## Answer: \n",
    "\n",
    "We have:\n",
    "\n",
    "\\begin{align}\n",
    "Q^{\\pi}(s,a)&=E[ \\sum_{k=0}^{\\infty} \\gamma^k r_{t+k}|s_t = s, a_t = a] \\\\\n",
    "& = E[ r(s,a) + \\sum_{k=1}^{\\infty} \\gamma^k r_{t+k}|s_t = s, a_t = a] \\\\\n",
    "& =  r(s,a) + \\gamma E[E[\\sum_{k=0}^{\\infty}[\\gamma^k r_{t+1+k}|s_{t+1}=s',a_{t+1}=a']|s_t = s, a_t = a] \\\\\n",
    "& =  r(s,a) + \\gamma \\sum_{(s',a')}(p(s_{t+1}=s',a_{t+1}=a' |s_t = s, a_t = a )[E[\\sum_{k=0}^{\\infty}\\gamma^k r_{t+1+k}|s_{t+1}=s',a_{t+1}=a']\\\\\n",
    "& =  \\sum_{(s',a')} (p(s_{t+1}=s',a_{t+1}=a' |s_t = s, a_t = a ) r(s,a) + \\gamma \\sum_{(s',a')}(p(s_{t+1}=s',a_{t+1}=a' |s_t = s, a_t = a )E[\\sum_{k=0}^{\\infty}\\gamma^k r_{t+1+k}|s_{t+1}=s',a_{t+1}=a']\\\\\n",
    "&=E_{(s',a')\\sim p(.|s,a)}[r(s,a)+\\gamma Q^{\\pi}(s',a')]\n",
    "\\end{align}\n",
    "\n",
    "Then we have:\n",
    "\n",
    "\\begin{align}\n",
    "Q^{*}(s,a) &= \\max_{\\pi}E_{(s',a')\\sim p(.|s,a)}[r(s,a)+\\gamma Q^{\\pi}(s',a')] \\\\\n",
    "&= \\max_{\\pi}r(s,a) + \\gamma \\sum(p(s_{t+1}=s' |s_t = s, a_t = a )Q^{\\pi}(s',a')\\\\\n",
    "&= r(s,a) + \\gamma \\max_{\\pi} \\sum(p(s_{t+1}=s' |s_t = s, a_t = a )Q^{\\pi'}(s',a') \\qquad \\text{with } \\pi=(a',\\pi')\n",
    "\\end{align}\n",
    "\n",
    "In order to exchange the maximum and the sum one has to remark the following:\n",
    "We have first the trivial inequality\n",
    "\n",
    "\\begin{equation*}\n",
    "\\max_{\\pi} \\sum_{(s')} p(s_{t+1}=s' |s_t = s, a_t = a )Q^{\\pi'}(s',a') \\leq \\sum_{(s',a')} p(s_{t+1}=s' |s_t = s, a_t = a ) \\max_{\\pi}Q^{\\pi'}(s',a') \n",
    "\\end{equation*}\n",
    "\n",
    "Then we have considering $\\hat{\\pi}(s',a') = \\arg\\max_{\\pi'} Q^{\\pi'}(s',a')$\n",
    "\\begin{align*}\n",
    " \\sum_{(s'} p(s_{t+1}=s'|s_t = s, a_t = a ) \\max_{\\pi'}Q^{\\pi'}(s',a') &= \\sum_{(s')} p(s_{t+1}=s' |s_t = s, a_t = a ) Q^{\\hat{\\pi}(s',a')}(s',a') \\\\\n",
    " &\\leq \\max_{\\pi'} \\sum_{s'} p(s_{t+1}=s' |s_t = s, a_t = a )Q^{\\pi'}(s',a') \n",
    "\\end{align*}\n",
    "\n",
    "So we can rewrite our initial equation as :\n",
    "\\begin{align}\n",
    "Q^{*}(s,a)&= r(s,a) + \\gamma  \\sum(p(s_{t+1}=s' |s_t = s, a_t = a )\\max_{a'}\\max_{\\pi'}Q^{\\pi'}(s',a') \\\\\n",
    "&= r(s,a) + \\gamma \\sum(p(s_{t+1}=s' |s_t = s, a_t = a )\\max_{a'} Q^{*}(s',a') \\\\ \n",
    "&=E_{s'\\sim \\pi^*(.|s,a)}[r(s,a)+\\gamma\\max_{a'}Q^{*}(s',a')].\n",
    "\\end{align}\n",
    "\n",
    "The proposed objective function \n",
    "\n",
    "\\begin{equation*}\n",
    "\\mathcal{L}(\\theta)=E_{s' \\sim \\pi^*(.|s,a)}\\Vert r+\\gamma\\max_{a'}Q(s',a',\\theta)-Q(s,a,\\theta)\\Vert^{2}.\n",
    "\\end{equation*}\n",
    "\n",
    "Allows to enforce the previous equality, if our neural network perfectly converge this equality must be true. Using this loss function we try to enforce our learned Q-value to verify the Bellman equation."
   ]
  },
  {
   "cell_type": "markdown",
   "metadata": {},
   "source": [
    "***\n",
    "The DQN-learning algorithm relies on these derivations to train the parameters $\\theta$ of a Deep Neural Network:\n",
    "\n",
    "1. At the state $s_t$, select the action $a_t$ with best reward using $Q_t$ and store the results;\n",
    "\n",
    "2. Obtain the new state $s_{t+1}$ from the environment $p$;\n",
    "\n",
    "3. Store $(s_t,a_t,s_{t+1})$;\n",
    "\n",
    "4. Obtain $Q_{t+1}$ by minimizing  $\\mathcal{L}$ from a recovered batch from the previously stored results.\n",
    "\n",
    "***\n",
    "__Question 6__ Implement the class ```Memory``` that stores moves (in a replay buffer) via ```remember``` and provides a ```random_access``` to these. Specify a maximum memory size to avoid side effects. You can for example use a ```list()``` and set by default ```max_memory=100```."
   ]
  },
  {
   "cell_type": "code",
   "execution_count": 70,
   "metadata": {},
   "outputs": [],
   "source": [
    "class Memory(object):\n",
    "    def __init__(self, max_memory=100):\n",
    "        self.max_memory = max_memory\n",
    "        self.memory = list()\n",
    "\n",
    "    def remember(self, m):\n",
    "        if len(self.memory)>=self.max_memory:\n",
    "            del self.memory[0]\n",
    "        self.memory.append(m)\n",
    "\n",
    "    def random_access(self):\n",
    "        index = np.random.randint(0,len(self.memory),size=1)[0]\n",
    "        return self.memory[index]"
   ]
  },
  {
   "cell_type": "markdown",
   "metadata": {},
   "source": [
    "***\n",
    "The pipeline we will use for training is given below:"
   ]
  },
  {
   "cell_type": "code",
   "execution_count": 71,
   "metadata": {},
   "outputs": [],
   "source": [
    "def train(agent,env,epoch,prefix=''):\n",
    "    # Number of won games\n",
    "    score = 0\n",
    "    loss = 0\n",
    "    \n",
    "    for e in range(epoch):\n",
    "        # At each epoch, we restart to a fresh game and get the initial state\n",
    "        state = env.reset()\n",
    "        # This assumes that the games will terminate\n",
    "        game_over = False\n",
    "\n",
    "        win = 0\n",
    "        lose = 0\n",
    "\n",
    "        while not game_over:\n",
    "            # The agent performs an action\n",
    "            action = agent.act(state)\n",
    "\n",
    "            # Apply an action to the environment, get the next state, the reward\n",
    "            # and if the games end\n",
    "            prev_state = state\n",
    "            state, reward, game_over = env.act(action)\n",
    "\n",
    "            # Update the counters\n",
    "            if reward > 0:\n",
    "                win = win + reward\n",
    "            if reward < 0:\n",
    "                lose = lose -reward\n",
    "\n",
    "            # Apply the reinforcement strategy\n",
    "            loss = agent.reinforce(prev_state, state,  action, reward, game_over)\n",
    "\n",
    "        # Save as a mp4\n",
    "        if e % 10 == 0:\n",
    "            env.draw(prefix+str(e))\n",
    "\n",
    "        # Update stats\n",
    "        score += win-lose\n",
    "    \n",
    "\n",
    "        print(\"Epoch {:03d}/{:03d} | Loss {:.4f} | Win/lose count {}/{} ({})\"\n",
    "              .format(e+1, epoch, loss, win, lose, win-lose))\n",
    "        agent.save(name_weights=prefix+'model.h5',name_model=prefix+'model.json')\n",
    "    \n",
    "    "
   ]
  },
  {
   "cell_type": "markdown",
   "metadata": {},
   "source": [
    "***\n",
    "__Question 7__ Implement the DQN training algorithm using a cascade of fully connected layers. You can use different learning rate, batch size or memory size parameters. In particular, the loss might oscillate while the player will start to win the games. You have to find a good criterium."
   ]
  },
  {
   "cell_type": "code",
   "execution_count": 72,
   "metadata": {},
   "outputs": [],
   "source": [
    "class DQN(Agent):\n",
    "    def __init__(self, grid_size,  epsilon = 0.1, memory_size=100, batch_size = 16,n_state=2):\n",
    "        super(DQN, self).__init__(epsilon = epsilon)\n",
    "\n",
    "        # Discount for Q learning\n",
    "        self.discount = 0.99 \n",
    "        self.grid_size = grid_size\n",
    "        # number of state\n",
    "        self.n_state = n_state\n",
    "        # Memory\n",
    "        self.memory = Memory(memory_size)\n",
    "        # Batch size when learning\n",
    "        self.batch_size = batch_size\n",
    "\n",
    "    def learned_act(self, s):\n",
    "        # Returns the best optimizer using the previous actions already saved\n",
    "        optimizer = np.argmax(self.model.predict(s.reshape([1,s.shape[0],s.shape[1],s.shape[2]]))[0,:])\n",
    "        return optimizer\n",
    "\n",
    "    def reinforce(self, s_, n_s_, a_, r_, game_over_):\n",
    "        # Two steps: first memorize the states, second learn from the pool\n",
    "        self.memory.remember([s_, n_s_, a_, r_, game_over_])     \n",
    "        input_states = np.zeros((self.batch_size, 5,5,self.n_state))\n",
    "        target_q = np.zeros((self.batch_size, 4))\n",
    "        \n",
    "        for i in range(self.batch_size):\n",
    "            # We call a random act saved in the memory class\n",
    "            s_, n_s_, a_, r_, game_over_  = self.memory.random_access()\n",
    "            target_q[i] =self.model.predict(s_.reshape([1,s_.shape[0],s_.shape[1],s_.shape[2]]))[0]\n",
    "            \n",
    "            # In this step, we will try to improve the previous prediction,\n",
    "            # so if we don't have new information, we keep the previous prediction.\n",
    "            if game_over_:\n",
    "                input_states[i] = s_\n",
    "                target_q[i,a_] = r_\n",
    "            else:\n",
    "                input_states[i] = s_\n",
    "                target_q[i,a_] = r_  + self.discount*max(self.model.predict(n_s_.reshape([1,s_.shape[0],s_.shape[1],s_.shape[2]]))[0])\n",
    "        \n",
    "        # HINT: Clip the target to avoid exploiding gradients.. -- clipping is a bit tighter\n",
    "        target_q = np.clip(target_q, -3, 3)\n",
    "        l = self.model.train_on_batch(input_states, target_q)\n",
    "\n",
    "        return l\n",
    "\n",
    "    def save(self,name_weights='model.h5',name_model='model.json'):\n",
    "        self.model.save_weights(name_weights, overwrite=True)\n",
    "        with open(name_model, \"w\") as outfile:\n",
    "            json.dump(self.model.to_json(), outfile)\n",
    "            \n",
    "    def load(self,name_weights='model.h5',name_model='model.json'):\n",
    "        with open(name_model, \"r\") as jfile:\n",
    "            model = model_from_json(json.load(jfile))\n",
    "        model.load_weights(name_weights)\n",
    "        model.compile(\"sgd\", \"mse\")\n",
    "        self.model = model\n",
    "\n",
    "            \n",
    "class DQN_FC(DQN):\n",
    "    def __init__(self, *args, lr=0.1,**kwargs):\n",
    "        super(DQN_FC, self).__init__( *args,**kwargs)\n",
    "        \n",
    "        # NN Model\n",
    "        # A one layer method is tried here\n",
    "        model = Sequential()\n",
    "        model.add(Flatten(input_shape=(5,5,self.n_state,)))\n",
    "        model.add(Dense(50,activation ='relu'))\n",
    "        model.add(Dense(4))\n",
    "        model.compile(sgd(lr=lr, decay=1e-4, momentum=0.0), \"mse\")\n",
    "        self.model = model\n",
    "        "
   ]
  },
  {
   "cell_type": "code",
   "execution_count": 74,
   "metadata": {},
   "outputs": [
    {
     "name": "stdout",
     "output_type": "stream",
     "text": [
      "Epoch 001/025 | Loss 0.0020 | Win/lose count 3.5/6.0 (-2.5)\n",
      "Epoch 002/025 | Loss 0.0020 | Win/lose count 3.5/1.0 (2.5)\n",
      "Epoch 003/025 | Loss 0.0023 | Win/lose count 4.0/1.0 (3.0)\n",
      "Epoch 004/025 | Loss 0.0028 | Win/lose count 4.0/5.0 (-1.0)\n",
      "Epoch 005/025 | Loss 0.0012 | Win/lose count 3.5/3.0 (0.5)\n",
      "Epoch 006/025 | Loss 0.0040 | Win/lose count 6.0/4.0 (2.0)\n",
      "Epoch 007/025 | Loss 0.0021 | Win/lose count 5.5/5.0 (0.5)\n",
      "Epoch 008/025 | Loss 0.0142 | Win/lose count 5.5/3.0 (2.5)\n",
      "Epoch 009/025 | Loss 0.0024 | Win/lose count 8.5/0 (8.5)\n",
      "Epoch 010/025 | Loss 0.0905 | Win/lose count 0.5/1.0 (-0.5)\n",
      "Epoch 011/025 | Loss 0.0015 | Win/lose count 5.5/2.0 (3.5)\n",
      "Epoch 012/025 | Loss 0.0015 | Win/lose count 8.0/1.0 (7.0)\n",
      "Epoch 013/025 | Loss 0.0598 | Win/lose count 8.0/2.0 (6.0)\n",
      "Epoch 014/025 | Loss 0.0019 | Win/lose count 3.0/2.0 (1.0)\n",
      "Epoch 015/025 | Loss 0.0024 | Win/lose count 5.5/4.0 (1.5)\n",
      "Epoch 016/025 | Loss 0.0008 | Win/lose count 8.0/1.0 (7.0)\n",
      "Epoch 017/025 | Loss 0.0027 | Win/lose count 11.5/2.0 (9.5)\n",
      "Epoch 018/025 | Loss 0.0033 | Win/lose count 4.5/2.0 (2.5)\n",
      "Epoch 019/025 | Loss 0.0013 | Win/lose count 8.0/2.0 (6.0)\n",
      "Epoch 020/025 | Loss 0.0008 | Win/lose count 2.5/1.0 (1.5)\n",
      "Epoch 021/025 | Loss 0.0019 | Win/lose count 7.5/4.0 (3.5)\n",
      "Epoch 022/025 | Loss 0.0029 | Win/lose count 4.5/1.0 (3.5)\n",
      "Epoch 023/025 | Loss 0.0101 | Win/lose count 4.5/2.0 (2.5)\n",
      "Epoch 024/025 | Loss 0.0580 | Win/lose count 2.5/3.0 (-0.5)\n",
      "Epoch 025/025 | Loss 0.0039 | Win/lose count 8.0/0 (8.0)\n"
     ]
    },
    {
     "data": {
      "text/html": [
       "<video alt=\"test\" controls>\n",
       "                <source src=\"data:video/mp4;base64,AAAAIGZ0eXBpc29tAAACAGlzb21pc28yYXZjMW1wNDEAAAAIZnJlZQAAFpxtZGF0AAACrQYF//+p3EXpvebZSLeWLNgg2SPu73gyNjQgLSBjb3JlIDE1NyByMjkzNSA1NDVkZTJmIC0gSC4yNjQvTVBFRy00IEFWQyBjb2RlYyAtIENvcHlsZWZ0IDIwMDMtMjAxOCAtIGh0dHA6Ly93d3cudmlkZW9sYW4ub3JnL3gyNjQuaHRtbCAtIG9wdGlvbnM6IGNhYmFjPTEgcmVmPTMgZGVibG9jaz0xOjA6MCBhbmFseXNlPTB4MToweDExMSBtZT1oZXggc3VibWU9NyBwc3k9MSBwc3lfcmQ9MS4wMDowLjAwIG1peGVkX3JlZj0xIG1lX3JhbmdlPTE2IGNocm9tYV9tZT0xIHRyZWxsaXM9MSA4eDhkY3Q9MCBjcW09MCBkZWFkem9uZT0yMSwxMSBmYXN0X3Bza2lwPTEgY2hyb21hX3FwX29mZnNldD00IHRocmVhZHM9OCBsb29rYWhlYWRfdGhyZWFkcz0xIHNsaWNlZF90aHJlYWRzPTAgbnI9MCBkZWNpbWF0ZT0xIGludGVybGFjZWQ9MCBibHVyYXlfY29tcGF0PTAgY29uc3RyYWluZWRfaW50cmE9MCBiZnJhbWVzPTMgYl9weXJhbWlkPTIgYl9hZGFwdD0xIGJfYmlhcz0wIGRpcmVjdD0xIHdlaWdodGI9MSBvcGVuX2dvcD0wIHdlaWdodHA9MiBrZXlpbnQ9MjUwIGtleWludF9taW49MjUgc2NlbmVjdXQ9NDAgaW50cmFfcmVmcmVzaD0wIHJjX2xvb2thaGVhZD00MCByYz1jcmYgbWJ0cmVlPTEgY3JmPTIzLjAgcWNvbXA9MC42MCBxcG1pbj0wIHFwbWF4PTY5IHFwc3RlcD00IGlwX3JhdGlvPTEuNDAgYXE9MToxLjAwAIAAAAKfZYiEADf//vaH+BTZWBP+Wb/9DX/cj9uPrP1xYyEE31qvIejAGS+1H+b/rFFs6Z6UB/fgCJQAc24ZwpHZJ3iTdjdQw/DAvgUuAor4FNJkVXtJn5Iz37ESSk3CkSlQvO2YxDtL3fCGflU+CE/i4G1mF91oQ6CmLOBCy5iODdP5vm9cSDIA1mc6n8K7BxCnYe8pts6NN+upBjEDcjvIym5YjBiChnbIde4cb/kPmw6l3TWcvrpM2kfNtIATQKrIBa5hF2COefnD+SBqZ18hvJRgGCHGmjiJmh6j7Yi6uJiepVt1DjyoXOktQzw8WiJvPW74qWgXTi4gP8Gqpv/0v57+58dxQ86ehkUU1brUcN+xJ+uhCWV4g155X3Hy9KE/9LZ+XpM4Cb+AJVaRcAU+RHJ6qgs3y94al0Zn04ZL9PnLIdfXFADkX1Rg8MYZpR6enmJq7CSQinAhp4Sev8lT7+sAsEr64yLkw5u1gB1AB51idhoxkn+q850YGAACICDHC2rUSFWAKv0YP/rMM9Qh2kXrrOESzM7v8ACB/WEVooWeEce4CHeVGwi/aomB3yk2SynQWXUfq24DtV/eAKSBW9l+6cGW0QG2YAwUfK9Qdf8pIdsHMkE7FE+p+kMoekxECNFz5uiJmICB1jdX/fELWL0zwo0LkhxDa7b1GDKZeFxQOHPVizizGq/aJwsRSxpG+rNFXYdg7kkxh61q8Q6fhQC50NXu4KPtpX9t49qWsuoAayFZNs0KWbgKX2gcMTKFDlTbtOZi3Au6TEQ76DtGuTYPbwLONb8e84GigLZooomoOKQDvgGMxzmiPhmDT7zcAkm0bF/hgNOAe6GPBRpBwaYNScopJmVGjD/T5A8GEZ+T5X1VRuKZCQruAJedSmAA14EAAAAWQZojbEN//qeEAKh7qffDPFprdIYl4AAAAA9BnkF4hX8AhsoAySisiJsAAAAOAZ5iakK/AIcGhd71ISoAAAAcQZplSahBaJlMFPDf/qeEAGx9g/y10tzgmifKzQAAABABnoRqQr8AWJtyKvAE/uuBAAAAGUGahknhClJlMCHf/qmWABb/fVlVmbZgTMEAAAAWQZqqSeEOiZTAh3/+qZYAFd99X3QBwQAAAA5BnshFETwv/wAZwRbz4AAAAA8Bnud0Qr8AI0qRxHZdlkkAAAAPAZ7pakK/ACNKkbrPVnwvAAAAEkGa7kmoQWiZTAhv//6nhAABJwAAAAxBnwxFESwv/wAAsoAAAAAPAZ8rdEK/ACNKkcR2XZZJAAAADwGfLWpCvwAjSpG6z1Z8LwAAABJBmzJJqEFsmUwIb//+p4QAAScAAAAMQZ9QRRUsL/8AALKAAAAADwGfb3RCvwAjSpHEdl2WSQAAAA8Bn3FqQr8AI0qRus9WfC8AAAAdQZt0SahBbJlMFEw3//6nhABBR81TWbc146fav1gAAAAQAZ+TakK/ADYO3CbjPr07dAAAABhBm5VJ4QpSZTAhv/6nhABBvjpj/D6tt3kAAAATQZu3SeEOiZTBTRMN//6nhAABJwAAAA8Bn9ZqQr8ANNYgeTBGG4EAAAASQZvZSeEPJlMFPDf//qeEAAEnAAAAEAGf+GpCvwA0OonIGRtF/IAAAAASQZv7SeEPJlMFPDf//qeEAAEnAAAAEAGeGmpCvwA0OonIGRtF/IAAAAASQZodSeEPJlMFPDf//qeEAAEnAAAAEAGePGpCvwA0OonIGRtF/IEAAAASQZo/SeEPJlMFPDf//qeEAAEnAAAAEAGeXmpCvwA0OonIGRtF/IAAAAASQZpBSeEPJlMFPDf//qeEAAEnAAAAEAGeYGpCvwA0OonIGRtF/IAAAAASQZpjSeEPJlMFPDf//qeEAAEnAAAAEAGegmpCvwA0OonIGRtF/IAAAAASQZqFSeEPJlMFPDf//qeEAAEnAAAAEAGepGpCvwA0OonIGRtF/IEAAAASQZqnSeEPJlMFPDf//qeEAAEnAAAAEAGexmpCvwA0OonIGRtF/IEAAAASQZrJSeEPJlMFPDf//qeEAAEnAAAAEAGe6GpCvwA0OonIGRtF/IAAAAASQZrrSeEPJlMFPDf//qeEAAEnAAAAEAGfCmpCvwA0OonIGRtF/IAAAAASQZsNSeEPJlMFPDf//qeEAAEnAAAAEAGfLGpCvwA0OonIGRtF/IEAAAASQZsvSeEPJlMFPDf//qeEAAEnAAAAEAGfTmpCvwA0OonIGRtF/IEAAAASQZtRSeEPJlMFPDf//qeEAAEnAAAAEAGfcGpCvwA0OonIGRtF/IAAAAASQZtzSeEPJlMFPDf//qeEAAEnAAAAEAGfkmpCvwA0OonIGRtF/IAAAAASQZuVSeEPJlMFPDf//qeEAAEnAAAAEAGftGpCvwA0OonIGRtF/IEAAAATQZu3SeEPJlMFPDv//qmWAACVgAAAABABn9ZqQr8ANDqJyBkbRfyBAAAAHUGb20nhDyZTAh3//qmWADLfCjKrOUGaBJtvgdJBAAAAEEGf+UURPC//ADtpshaiaHsAAAAPAZ4YdEK/ADTJKIUwRhuBAAAAEAGeGmpCvwBR1GiZE0rN5UAAAAAZQZofSahBaJlMCG///qeEAGJ9g/zyig71VQAAABBBnj1FESwv/wA5/8VeRSAhAAAAEAGeXHRCvwBPk6k8r8lNpJAAAAAPAZ5eakK/ADTWIHkwRhuAAAAAEkGaQ0moQWyZTAhn//6eEAAEfQAAAAxBnmFFFSwv/wAAsoAAAAAQAZ6AdEK/ADQ5ycR2XZXegQAAAA8BnoJqQr8ANDnJus9We4EAAAAZQZqESahBbJlMCGf//p4QAPl6+/kSI+sJswAAABhBmqVJ4QpSZTAhn/6eEACke6b6KlZr4acAAAAZQZrGSeEOiZTAhv/+p4QAGx9g/wnBboTqQQAAABlBmudJ4Q8mUwIb//6nhAARb46fUcaEh2BBAAAAH0GbC0nhDyZTAhv//qeEAAuvup93m7FGsgrZihIP/oAAAAARQZ8pRRE8L/8ABug+sZaPFPIAAAAOAZ9IdEK/AAlu47zzjEcAAAAQAZ9KakK/AAksroqs4/A5YAAAACBBm01JqEFomUwU8N/+p4QAB20YeF8ho+e96XQIT+LqCAAAABABn2xqQr8ABiHVPJcz5U2BAAAAGEGbbknhClJlMCG//qeEAAdz2D17M+CL/wAAABFBm5JJ4Q6JlMCG//6nhAABJwAAAAxBn7BFETwv/wAAsoAAAAAQAZ/PdEK/AAXnOTiOy7OUgAAAAA8Bn9FqQr8ABiAWNErnmN8AAAAaQZvTSahBaJlMCG///qeEAAdoHhTrOn3XvoAAAAAZQZv0SeEKUmUwId/+qZYABdvkGaAPSX2YkAAAABtBmhhJ4Q6JlMCG//6nhAAL/7B/Npd2skABZYEAAAAVQZ42RRE8L/8ABxPtCp0crkW+wovOAAAAEAGeVXRCvwAJruO8rZQ9qYEAAAAPAZ5XakK/AAZIi+ZtmRx9AAAAEkGaXEmoQWiZTAhn//6eEAAEfAAAAAxBnnpFESwv/wAAsoEAAAAQAZ6ZdEK/AAXnOTiOy7OUgAAAAA8BnptqQr8ABiAWNErnmN8AAAAZQZqdSahBbJlMCG///qeEAAdH2D17M+CMBwAAABtBmr5J4QpSZTAhv/6nhAAHG+AwCa/wnBboYRAAAAAYQZrASeEOiZTBTRMN//6nhAAC/++z7f+AAAAADwGe/2pCvwADt2BLlf5mwQAAAB1BmuJJ4Q8mUwU8O//+qZYAA6TRIrk/77ag2fpIYAAAABABnwFqQr8ABfnVPJgevomBAAAAEUGbBknhDyZTAhv//qeEAAEnAAAADEGfJEURPC//AACygQAAABABn0N0Qr8ABiHk3R23w46BAAAADwGfRWpCvwAF5zk3WerQ6QAAABJBm0pJqEFomUwIZ//+nhAABH0AAAAMQZ9oRREsL/8AALKAAAAAEAGfh3RCvwAGIeTdHbfDjoAAAAAPAZ+JakK/AAXnOTdZ6tDpAAAAGUGbi0moQWyZTAhn//6eEAAc71xt7033XvoAAAAZQZusSeEKUmUwIb/+p4QAB5QeFOs6fde5gAAAABlBm81J4Q6JlMCG//6nhAAHn9g/wnBboXzBAAAAHEGb8UnhDyZTAhv//qeEAAUj40/HbeImZqbdIrcAAAAQQZ4PRRE8L/8AAxAehpCOsQAAABABni50Qr8ABBdx3lbKHzaAAAAADwGeMGpCvwACs8oHkwUYgAAAABtBmjNJqEFomUwU8N/+p4QABPhDL294YNz+i50AAAAQAZ5SakK/AAP4z5jdDkhAHAAAABhBmlRJ4QpSZTAhv/6nhAAFGxWkEIn+XJMAAAAYQZp1SeEOiZTAh3/+qZYAAqWllZxWnL+hAAAAG0GamUnhDyZTAhv//qeEAAgo+ZqbNuM3up8ddAAAABVBnrdFETwv/wAE+oEE82IbumcttLkAAAAQAZ7WdEK/AARXcd5Wyh8tgQAAABABnthqQr8ABsHajlf24jnAAAAAGkGa2kmoQWiZTAh3//6plgAEJ+PP37INxWLhAAAAEkGa/knhClJlMCHf/qmWAACVgAAAAAxBnxxFNEwv/wAAsoEAAAAQAZ87dEK/AARJUjvwAfdbQQAAAA8Bnz1qQr8ABElSN1nq0X4AAAATQZsiSahBaJlMCHf//qmWAACVgAAAAAxBn0BFESwv/wAAsoEAAAAQAZ9/dEK/AARJUjvwAfdbQAAAAA8Bn2FqQr8ABElSN1nq0X8AAAATQZtmSahBbJlMCHf//qmWAACVgAAAAAxBn4RFFSwv/wAAsoEAAAAQAZ+jdEK/AARJUjvwAfdbQQAAABABn6VqQr8ABsErYvV2HPHBAAAAHEGbqkmoQWyZTAh3//6plgACu++r74wqBaKYiPsAAAAQQZ/IRRUsL/8AAzirxvYRuAAAAA8Bn+d0Qr8ABsLKu7zd/8AAAAAQAZ/pakK/AARWWQw+gJB/KQAAABlBm+5JqEFsmUwId//+qZYAArgTpH99X3j6AAAAEEGeDEUVLC//AAM4I4zuhSAAAAAQAZ4rdEK/AARX1EifFmKkcQAAAA8Bni1qQr8ABFg1gXX+V8EAAAATQZoySahBbJlMCHf//qmWAACVgQAAAAxBnlBFFSwv/wAAsoAAAAAQAZ5vdEK/AARJUjvwAfdbQAAAABABnnFqQr8ABElSO9nj7raBAAAAE0GadkmoQWyZTAh3//6plgAAlYAAAAAMQZ6URRUsL/8AALKAAAAAEAGes3RCvwAESVI78AH3W0EAAAAPAZ61akK/AARJUjdZ6tF+AAAAE0GaukmoQWyZTAh3//6plgAAlYEAAAAMQZ7YRRUsL/8AALKBAAAAEAGe93RCvwAESVI78AH3W0AAAAAPAZ75akK/AARJUjdZ6tF/AAAAE0Ga/kmoQWyZTAh3//6plgAAlYAAAAAMQZ8cRRUsL/8AALKBAAAAEAGfO3RCvwAESVI78AH3W0EAAAAQAZ89akK/AARJUjvZ4+62gAAAABNBmyJJqEFsmUwId//+qZYAAJWAAAAADEGfQEUVLC//AACygQAAABABn390Qr8ABElSO/AB91tAAAAADwGfYWpCvwAESVI3WerRfwAAABNBm2ZJqEFsmUwId//+qZYAAJWAAAAADEGfhEUVLC//AACygQAAABABn6N0Qr8ABElSO/AB91tBAAAAEAGfpWpCvwAESVI72ePutoEAAAATQZuqSahBbJlMCHf//qmWAACVgQAAAAxBn8hFFSwv/wAAsoAAAAAPAZ/ndEK/AARJUjiOy7PzAAAAEAGf6WpCvwAESVI72ePutoEAAAATQZvuSahBbJlMCHf//qmWAACVgAAAAAxBngxFFSwv/wAAsoAAAAAQAZ4rdEK/AARJUjvwAfdbQQAAABABni1qQr8ABElSO9nj7raBAAAAEkGaMkmoQWyZTAhv//6nhAABJwAAAAxBnlBFFSwv/wAAsoAAAAAPAZ5vdEK/AARJUjiOy7PzAAAAEAGecWpCvwAESVI72ePutoEAAAAdQZp0SahBbJlMFEw7//6plgACu++r70TU6hBuEN4AAAAQAZ6TakK/AARWT5zrQww+QAAAABlBmpdJ4QpSZTAh3/6plgACpfIM0AekvtwRAAAAEUGetUU0TCv/AAQ3Z3/RyRbLAAAADwGe1mpCvwAEN2I8mB6+3wAAABNBmttJqEFomUwId//+qZYAAJWBAAAAEkGe+UURLC//AAMlEtzr/FrMSAAAABABnxh0Qr8ABFdx3lbKHy2BAAAAEAGfGmpCvwAEVeaJkTStTMAAAAAZQZsfSahBbJlMCG///qeEAAVH3U/db471NQAAABBBnz1FFSwv/wADJCOM7oZhAAAAEAGfXHRCvwAEV3HeVsofLYAAAAAPAZ9eakK/AARW1ru+78TAAAAAGUGbQ0moQWyZTAhv//6nhAAFQEMvb3U/bdsAAAAQQZ9hRRUsL/8AAySrxvYR+AAAAA8Bn4B0Qr8ABFhAHQnJxMEAAAAQAZ+CakK/AARV5omRNK1MwAAAABlBm4dJqEFsmUwIZ//+nhAAFI9032v6X3zRAAAAEEGfpUUVLC//AAMkI4zuhmEAAAAQAZ/EdEK/AARXcd5Wyh8tgQAAAA8Bn8ZqQr8ABFbWu77vxMEAAAAbQZvJS6hCEFskRggoB/IB/YeAUTCv/jhAABFwAAAAJQGf6GpCvwKvY+1BxN2qw0km5aqGByy1u80qIJosoMaHfQ6Bw5oAAAw4bW9vdgAAAGxtdmhkAAAAAAAAAAAAAAAAAAAD6AAAH5AAAQAAAQAAAAAAAAAAAAAAAAEAAAAAAAAAAAAAAAAAAAABAAAAAAAAAAAAAAAAAABAAAAAAAAAAAAAAAAAAAAAAAAAAAAAAAAAAAAAAAAAAgAAC2J0cmFrAAAAXHRraGQAAAADAAAAAAAAAAAAAAABAAAAAAAAH5AAAAAAAAAAAAAAAAAAAAAAAAEAAAAAAAAAAAAAAAAAAAABAAAAAAAAAAAAAAAAAABAAAAAARAAAAEQAAAAAAAkZWR0cwAAABxlbHN0AAAAAAAAAAEAAB+QAAAEAAABAAAAAArabWRpYQAAACBtZGhkAAAAAAAAAAAAAAAAAAAyAAABlABVxAAAAAAALWhkbHIAAAAAAAAAAHZpZGUAAAAAAAAAAAAAAABWaWRlb0hhbmRsZXIAAAAKhW1pbmYAAAAUdm1oZAAAAAEAAAAAAAAAAAAAACRkaW5mAAAAHGRyZWYAAAAAAAAAAQAAAAx1cmwgAAAAAQAACkVzdGJsAAAAlXN0c2QAAAAAAAAAAQAAAIVhdmMxAAAAAAAAAAEAAAAAAAAAAAAAAAAAAAAAARABEABIAAAASAAAAAAAAAABAAAAAAAAAAAAAAAAAAAAAAAAAAAAAAAAAAAAAAAAAAAAGP//AAAAL2F2Y0MB9AAN/+EAF2f0AA2RmygiEdCAAAADAIAAABkHihTLAQAFaOvjxEgAAAAYc3R0cwAAAAAAAAABAAAAygAAAgAAAAAUc3RzcwAAAAAAAAABAAAAAQAABhBjdHRzAAAAAAAAAMAAAAABAAAEAAAAAAEAAAgAAAAAAgAAAgAAAAABAAAGAAAAAAEAAAIAAAAAAQAABAAAAAABAAAKAAAAAAEAAAQAAAAAAQAAAAAAAAABAAACAAAAAAEAAAoAAAAAAQAABAAAAAABAAAAAAAAAAEAAAIAAAAAAQAACgAAAAABAAAEAAAAAAEAAAAAAAAAAQAAAgAAAAABAAAGAAAAAAEAAAIAAAAAAQAABAAAAAABAAAGAAAAAAEAAAIAAAAAAQAABgAAAAABAAACAAAAAAEAAAYAAAAAAQAAAgAAAAABAAAGAAAAAAEAAAIAAAAAAQAABgAAAAABAAACAAAAAAEAAAYAAAAAAQAAAgAAAAABAAAGAAAAAAEAAAIAAAAAAQAABgAAAAABAAACAAAAAAEAAAYAAAAAAQAAAgAAAAABAAAGAAAAAAEAAAIAAAAAAQAABgAAAAABAAACAAAAAAEAAAYAAAAAAQAAAgAAAAABAAAGAAAAAAEAAAIAAAAAAQAABgAAAAABAAACAAAAAAEAAAYAAAAAAQAAAgAAAAABAAAGAAAAAAEAAAIAAAAAAQAABgAAAAABAAACAAAAAAEAAAoAAAAAAQAABAAAAAABAAAAAAAAAAEAAAIAAAAAAQAACgAAAAABAAAEAAAAAAEAAAAAAAAAAQAAAgAAAAABAAAKAAAAAAEAAAQAAAAAAQAAAAAAAAABAAACAAAAAAQAAAQAAAAAAQAACgAAAAABAAAEAAAAAAEAAAAAAAAAAQAAAgAAAAABAAAGAAAAAAEAAAIAAAAAAQAABAAAAAABAAAKAAAAAAEAAAQAAAAAAQAAAAAAAAABAAACAAAAAAIAAAQAAAAAAQAACgAAAAABAAAEAAAAAAEAAAAAAAAAAQAAAgAAAAABAAAKAAAAAAEAAAQAAAAAAQAAAAAAAAABAAACAAAAAAIAAAQAAAAAAQAABgAAAAABAAACAAAAAAEAAAYAAAAAAQAAAgAAAAABAAAKAAAAAAEAAAQAAAAAAQAAAAAAAAABAAACAAAAAAEAAAoAAAAAAQAABAAAAAABAAAAAAAAAAEAAAIAAAAAAwAABAAAAAABAAAKAAAAAAEAAAQAAAAAAQAAAAAAAAABAAACAAAAAAEAAAYAAAAAAQAAAgAAAAACAAAEAAAAAAEAAAoAAAAAAQAABAAAAAABAAAAAAAAAAEAAAIAAAAAAQAABAAAAAABAAAKAAAAAAEAAAQAAAAAAQAAAAAAAAABAAACAAAAAAEAAAoAAAAAAQAABAAAAAABAAAAAAAAAAEAAAIAAAAAAQAACgAAAAABAAAEAAAAAAEAAAAAAAAAAQAAAgAAAAABAAAKAAAAAAEAAAQAAAAAAQAAAAAAAAABAAACAAAAAAEAAAoAAAAAAQAABAAAAAABAAAAAAAAAAEAAAIAAAAAAQAACgAAAAABAAAEAAAAAAEAAAAAAAAAAQAAAgAAAAABAAAKAAAAAAEAAAQAAAAAAQAAAAAAAAABAAACAAAAAAEAAAoAAAAAAQAABAAAAAABAAAAAAAAAAEAAAIAAAAAAQAACgAAAAABAAAEAAAAAAEAAAAAAAAAAQAAAgAAAAABAAAKAAAAAAEAAAQAAAAAAQAAAAAAAAABAAACAAAAAAEAAAoAAAAAAQAABAAAAAABAAAAAAAAAAEAAAIAAAAAAQAACgAAAAABAAAEAAAAAAEAAAAAAAAAAQAAAgAAAAABAAAKAAAAAAEAAAQAAAAAAQAAAAAAAAABAAACAAAAAAEAAAoAAAAAAQAABAAAAAABAAAAAAAAAAEAAAIAAAAAAQAABgAAAAABAAACAAAAAAEAAAgAAAAAAgAAAgAAAAABAAAKAAAAAAEAAAQAAAAAAQAAAAAAAAABAAACAAAAAAEAAAoAAAAAAQAABAAAAAABAAAAAAAAAAEAAAIAAAAAAQAACgAAAAABAAAEAAAAAAEAAAAAAAAAAQAAAgAAAAABAAAKAAAAAAEAAAQAAAAAAQAAAAAAAAABAAACAAAAAAEAAAYAAAAAAQAAAgAAAAAcc3RzYwAAAAAAAAABAAAAAQAAAMoAAAABAAADPHN0c3oAAAAAAAAAAAAAAMoAAAVUAAAAGgAAABMAAAASAAAAIAAAABQAAAAdAAAAGgAAABIAAAATAAAAEwAAABYAAAAQAAAAEwAAABMAAAAWAAAAEAAAABMAAAATAAAAIQAAABQAAAAcAAAAFwAAABMAAAAWAAAAFAAAABYAAAAUAAAAFgAAABQAAAAWAAAAFAAAABYAAAAUAAAAFgAAABQAAAAWAAAAFAAAABYAAAAUAAAAFgAAABQAAAAWAAAAFAAAABYAAAAUAAAAFgAAABQAAAAWAAAAFAAAABYAAAAUAAAAFgAAABQAAAAXAAAAFAAAACEAAAAUAAAAEwAAABQAAAAdAAAAFAAAABQAAAATAAAAFgAAABAAAAAUAAAAEwAAAB0AAAAcAAAAHQAAAB0AAAAjAAAAFQAAABIAAAAUAAAAJAAAABQAAAAcAAAAFQAAABAAAAAUAAAAEwAAAB4AAAAdAAAAHwAAABkAAAAUAAAAEwAAABYAAAAQAAAAFAAAABMAAAAdAAAAHwAAABwAAAATAAAAIQAAABQAAAAVAAAAEAAAABQAAAATAAAAFgAAABAAAAAUAAAAEwAAAB0AAAAdAAAAHQAAACAAAAAUAAAAFAAAABMAAAAfAAAAFAAAABwAAAAcAAAAHwAAABkAAAAUAAAAFAAAAB4AAAAWAAAAEAAAABQAAAATAAAAFwAAABAAAAAUAAAAEwAAABcAAAAQAAAAFAAAABQAAAAgAAAAFAAAABMAAAAUAAAAHQAAABQAAAAUAAAAEwAAABcAAAAQAAAAFAAAABQAAAAXAAAAEAAAABQAAAATAAAAFwAAABAAAAAUAAAAEwAAABcAAAAQAAAAFAAAABQAAAAXAAAAEAAAABQAAAATAAAAFwAAABAAAAAUAAAAFAAAABcAAAAQAAAAEwAAABQAAAAXAAAAEAAAABQAAAAUAAAAFgAAABAAAAATAAAAFAAAACEAAAAUAAAAHQAAABUAAAATAAAAFwAAABYAAAAUAAAAFAAAAB0AAAAUAAAAFAAAABMAAAAdAAAAFAAAABMAAAAUAAAAHQAAABQAAAAUAAAAEwAAAB8AAAApAAAAFHN0Y28AAAAAAAAAAQAAADAAAABidWR0YQAAAFptZXRhAAAAAAAAACFoZGxyAAAAAAAAAABtZGlyYXBwbAAAAAAAAAAAAAAAAC1pbHN0AAAAJal0b28AAAAdZGF0YQAAAAEAAAAATGF2ZjU4LjIwLjEwMA==\" type=\"video/mp4\" />\n",
       "             </video>"
      ],
      "text/plain": [
       "<IPython.core.display.HTML object>"
      ]
     },
     "execution_count": 74,
     "metadata": {},
     "output_type": "execute_result"
    }
   ],
   "source": [
    "env = Environment(grid_size=size, max_time=T, temperature=0.3)\n",
    "agent = DQN_FC(size, lr=.5, epsilon = 0.1, memory_size=2000, batch_size = 20)\n",
    "train(agent, env, epochs_train, prefix='fc_train')\n",
    "HTML(display_videos('fc_train10.mp4'))"
   ]
  },
  {
   "cell_type": "markdown",
   "metadata": {},
   "source": [
    "## Comparison of several neural networks changing parameters:\n",
    "\n",
    "For this part, I tried to change the parameters: Learning Rate(LR), Epsilon, Memory size, and the batch size.\n",
    "\n",
    "Architecture 1: One Layer Method\n",
    "\n",
    "We find that the best score is got when we use the following parameters:\n",
    "**lr=.5, epsilon = 0.1, memory_size=2000, batch_size = 20**\n",
    "\n",
    "**EXPERIMENT'S RESULTS:**\n",
    "\n",
    "|Architecture | # Epochs | LR | Epsilon | Memory size| Batch size | Avg Score | Std Desv. \n",
    "| :------ | :------: | ------: | ------: |------: |------: |------: |------: |\n",
    "| 1 | 25 | 0.1 | 0.1 | 2000 | 32 |  0.42 | 2.75\n",
    "| 1 | 25 | 0.1 | 0.1 | 5000 | 32 |  0.82 | 2.54\n",
    "| 1 | 25 | 0.1 | 0.5 | 2000 | 32 | -0.20 | 4.39\n",
    "| 1 | 25 | 0.1 | 0.5 | 5000 | 32 |  0.46 | 4.17\n",
    "| 1 | 25 | 0.5 | 0.1 | 2000 | 32 |  1.74 | 2.56\n",
    "| 1 | 25 | 0.5 | 0.1 | 5000 | 32 |  1.24 | 2.27\n",
    "| 1 | 25 | 0.5 | 0.5 | 2000 | 32 |  1.66 | 3.90\n",
    "| 1 | 25 | 0.5 | 0.5 | 5000 | 32 |  2.02 | 4.54\n",
    "| 1 | 25 | 0.1 | 0.1 | 2000 | 20 |  2.82 | 3.36\n",
    "| 1 | 25 | 0.1 | 0.1 | 5000 | 20 |  0.82 | 2.21\n",
    "| 1 | 25 | 0.1 | 0.5 | 2000 | 20 |  2.58 | 3.57\n",
    "| 1 | 25 | 0.1 | 0.5 | 5000 | 20 |  2.26 | 3.43\n",
    "| 1 | 25 | 0.5 | 0.1 | 2000 | 20 |  3.12 | 3.17\n",
    "| 1 | 25 | 0.5 | 0.1 | 5000 | 20 |  2.16 | 4.38\n",
    "| 1 | 25 | 0.5 | 0.5 | 2000 | 20 |  1.76 | 3.67\n",
    "| 1 | 25 | 0.5 | 0.5 | 5000 | 20 |  2.36 | 4.10"
   ]
  },
  {
   "cell_type": "markdown",
   "metadata": {},
   "source": [
    "__Question 8__ Implement the DQN training algorithm using a CNN (for example, 2 convolutional layers and one final fully connected layer)."
   ]
  },
  {
   "cell_type": "code",
   "execution_count": 76,
   "metadata": {},
   "outputs": [],
   "source": [
    "class DQN_CNN(DQN):\n",
    "    def __init__(self, *args,lr=0.1,**kwargs):\n",
    "        super(DQN_CNN, self).__init__(*args,**kwargs)\n",
    "        \n",
    "        ###### FILL IN\n",
    "        model = Sequential()\n",
    "        model.add(Conv2D(50,(2,2),input_shape=(5,5,self.n_state,),activation='relu'))\n",
    "        model.add(Conv2D(30,(2,2),activation='relu'))\n",
    "        model.add(Flatten())\n",
    "        model.add(Dense(4))\n",
    "        \n",
    "        model.compile(sgd(lr=lr, decay=1e-4, momentum=0.0), \"mse\")\n",
    "        self.model = model"
   ]
  },
  {
   "cell_type": "code",
   "execution_count": 77,
   "metadata": {},
   "outputs": [
    {
     "name": "stdout",
     "output_type": "stream",
     "text": [
      "Epoch 001/025 | Loss 0.0013 | Win/lose count 3.5/5.0 (-1.5)\n",
      "Epoch 002/025 | Loss 0.0075 | Win/lose count 7.5/5.0 (2.5)\n",
      "Epoch 003/025 | Loss 0.0029 | Win/lose count 1.5/3.0 (-1.5)\n",
      "Epoch 004/025 | Loss 0.0014 | Win/lose count 4.5/4.0 (0.5)\n",
      "Epoch 005/025 | Loss 0.0063 | Win/lose count 4.5/3.0 (1.5)\n",
      "Epoch 006/025 | Loss 0.0013 | Win/lose count 2.0/1.0 (1.0)\n",
      "Epoch 007/025 | Loss 0.0011 | Win/lose count 11.0/2.0 (9.0)\n",
      "Epoch 008/025 | Loss 0.0017 | Win/lose count 13.5/2.0 (11.5)\n",
      "Epoch 009/025 | Loss 0.0010 | Win/lose count 10.5/3.0 (7.5)\n",
      "Epoch 010/025 | Loss 0.0017 | Win/lose count 6.5/2.0 (4.5)\n",
      "Epoch 011/025 | Loss 0.0099 | Win/lose count 8.5/2.0 (6.5)\n",
      "Epoch 012/025 | Loss 0.0025 | Win/lose count 8.0/3.0 (5.0)\n",
      "Epoch 013/025 | Loss 0.0020 | Win/lose count 5.5/1.0 (4.5)\n",
      "Epoch 014/025 | Loss 0.0013 | Win/lose count 9.0/3.0 (6.0)\n",
      "Epoch 015/025 | Loss 0.0015 | Win/lose count 5.0/3.0 (2.0)\n",
      "Epoch 016/025 | Loss 0.0825 | Win/lose count 7.5/2.0 (5.5)\n",
      "Epoch 017/025 | Loss 0.0031 | Win/lose count 3.5/2.0 (1.5)\n",
      "Epoch 018/025 | Loss 0.0034 | Win/lose count 6.5/6.0 (0.5)\n",
      "Epoch 019/025 | Loss 0.0025 | Win/lose count 3.5/1.0 (2.5)\n",
      "Epoch 020/025 | Loss 0.0022 | Win/lose count 3.5/7.0 (-3.5)\n",
      "Epoch 021/025 | Loss 0.0009 | Win/lose count 4.0/3.0 (1.0)\n",
      "Epoch 022/025 | Loss 0.0005 | Win/lose count 10.5/2.0 (8.5)\n",
      "Epoch 023/025 | Loss 0.0016 | Win/lose count 10.0/3.0 (7.0)\n",
      "Epoch 024/025 | Loss 0.0017 | Win/lose count 6.5/0 (6.5)\n",
      "Epoch 025/025 | Loss 0.0011 | Win/lose count 10.5/3.0 (7.5)\n"
     ]
    },
    {
     "data": {
      "text/html": [
       "<video alt=\"test\" controls>\n",
       "                <source src=\"data:video/mp4;base64,AAAAIGZ0eXBpc29tAAACAGlzb21pc28yYXZjMW1wNDEAAAAIZnJlZQAAGGhtZGF0AAACrQYF//+p3EXpvebZSLeWLNgg2SPu73gyNjQgLSBjb3JlIDE1NyByMjkzNSA1NDVkZTJmIC0gSC4yNjQvTVBFRy00IEFWQyBjb2RlYyAtIENvcHlsZWZ0IDIwMDMtMjAxOCAtIGh0dHA6Ly93d3cudmlkZW9sYW4ub3JnL3gyNjQuaHRtbCAtIG9wdGlvbnM6IGNhYmFjPTEgcmVmPTMgZGVibG9jaz0xOjA6MCBhbmFseXNlPTB4MToweDExMSBtZT1oZXggc3VibWU9NyBwc3k9MSBwc3lfcmQ9MS4wMDowLjAwIG1peGVkX3JlZj0xIG1lX3JhbmdlPTE2IGNocm9tYV9tZT0xIHRyZWxsaXM9MSA4eDhkY3Q9MCBjcW09MCBkZWFkem9uZT0yMSwxMSBmYXN0X3Bza2lwPTEgY2hyb21hX3FwX29mZnNldD00IHRocmVhZHM9OCBsb29rYWhlYWRfdGhyZWFkcz0xIHNsaWNlZF90aHJlYWRzPTAgbnI9MCBkZWNpbWF0ZT0xIGludGVybGFjZWQ9MCBibHVyYXlfY29tcGF0PTAgY29uc3RyYWluZWRfaW50cmE9MCBiZnJhbWVzPTMgYl9weXJhbWlkPTIgYl9hZGFwdD0xIGJfYmlhcz0wIGRpcmVjdD0xIHdlaWdodGI9MSBvcGVuX2dvcD0wIHdlaWdodHA9MiBrZXlpbnQ9MjUwIGtleWludF9taW49MjUgc2NlbmVjdXQ9NDAgaW50cmFfcmVmcmVzaD0wIHJjX2xvb2thaGVhZD00MCByYz1jcmYgbWJ0cmVlPTEgY3JmPTIzLjAgcWNvbXA9MC42MCBxcG1pbj0wIHFwbWF4PTY5IHFwc3RlcD00IGlwX3JhdGlvPTEuNDAgYXE9MToxLjAwAIAAAANDZYiEADv//vb8/AptUwn/LZ/+iL/lb+9P2a61uFE7M7QacwPQC/3cd/Xi1bCrc27LcdG8bJkAU3Roif8JrvvgUzW1p+BRKmvE+kvrwhP8GdykWRk82Jc/dE/5tpbXZAI7qj+j6o30MW8BNpEYiwhfj+AcdHQtYwrenYgBOOPC9tg88dpkVwE8lxa+OcBYjZ0QwcBQyiJEsfhwjTyn5xxfUF+e7nm1224gtcrQWNg3kiSd24enNYAbGVgwRw7gloVUVRhIT87W+rblUZkWKfwuKwHdOABDov1ElSEu9YNCrHzhRbrSkN2CjorAnS2uBn6EP1TiXCl7NelXK4K5/ofys0JEZOk8qsr4PqP3x/wPRsbjjnJ5GSxy+Na4fVDenb8UfRoHbrH9b4vMpXR2Zi6t4MWQI3q03BGM4N5vBnkIfEJeshbWTnahxnqVjbcrejR7G9YT6+PNKvfetDoiFvkacWftqxnqVbmYu2UYOxJvpimRVhGEE4XCP6j+D0iPAhgwrfr/r82HgtOQIFcr1PpiCIeXc111fMJdfRnKJBvyC3+t/aPHv5kEYgSuP6i6LUxhfvvJdhjaa4TUoGvpcnjTUm2k3Pd47YS8hO8P7HPRK1YGDQSWcEorw4ARgdfZEF5WFg5EAQmpRfdNeBog2+PWRHuYYCcl6HflNTp/cPocKv0pyfM0NkgwklGhx1ami8P7H4AqLRwLSSim6Q5OTDKcVP2ReunnCkyahCw3sJm+CjNMUO/gTklIwRa8oYwfoVGh5r0HbxlPphGL6QUs2x+ARV6jj/hQorTgvRpwdiAWHNJsXWcyW0deC4okKXq08NzrkUhQdTGevtoD0ByNRVlXJtF8NgvzzAi6tjPP5d8+vA3X6YiykjqNb9dwQWuY6rrXU8EHQxuZjExBPJK2LVa4+zlZJnX45wco6WeMBrgjAavrESVtvHT/77nQ8vPMNDxtzIF4g95ItkGMilS+zrbbVRYCYUFfro028IcYRL4pnvdkKL5w3SEscL9XkAOqGxI71AqJSYgib9SQdHVpQFHHppb+150SgNrPR0ljldbuH3Kwze+1sXFmOBv4MwE3p21Y9IkTGOGRJA1r3buNrgGx5wACNwAAAChBmiRsQ3/+p4QAEm+HPmWV4wz8CmWzs+BQpLt3vAJr+gD+dIdTumLAAAAAI0GeQniF/wALFa2y/+PhKl3/+IQEBln/+IGO1Z/+f8ZXwOj/AAAAEAGeYXRCvwAJ9mRvr+02I2AAAAAQAZ5jakK/AA7bPmN0OSDqOQAAABJBmmZJqEFomUwU8N/+p4QAAScAAAAPAZ6FakK/AA7dgS5X+FTBAAAAEkGaiEnhClJlMFLDf/6nhAABJwAAABEBnqdqQr8ADtTrNfCKSw4xzAAAABJBmqpJ4Q6JlMFEw3/+p4QAAScAAAARAZ7JakK/AA7U6zXwiksOMc0AAAAaQZrNSeEPJlMCG//+p4QAEmlOEFtcSy3ZapgAAAASQZ7rRRE8K/8ADtgwCAUwDnTgAAAADgGfDGpCvwAO3X6R7n+fAAAAHEGbD0moQWiZTBTwz/6eEABFvnN+KJec6bFQNpEAAAAQAZ8uakK/AA6ALznWhhfPwQAAABhBmzBJ4QpSZTAhv/6nhAALZ7qcf4fVt9MAAAAZQZtRSeEOiZTAhv/+p4QACx/Gn7mRQkPLwAAAABlBm3JJ4Q8mUwId//6plgADk+0v53SFMKERAAAALUGblknhDyZTAh3//qmWAAO/7agH9/VdkQR5lljCm/ApmuIvgUSc/D6yvx6IgAAAABFBn7RFETwv/wAEdz7bvhQfcAAAAA8Bn9N0Qr8AA+MUmN6gjsUAAAAPAZ/VakK/AAYhK2MKzglAAAAAJkGb2kmoQWiZTAhv//6nhAALrxes/EIAf/wlSx5//5q/0pgf34DNAAAAEEGf+EURLC//AAboRnoAi2EAAAAQAZ4XdEK/AAlvpTwOmU6ugAAAAA8BnhlqQr8ACXBrAuv8SsEAAAAdQZocSahBbJlMFEw7//6plgAF499X3omp1CDcHz4AAAAPAZ47akK/AAlsrdKNIeRHAAAAGEGaIEnhClJlMCG//qeEAAugKDu32D9fYwAAABVBnl5FNEwv/wAG6Vd3tpSCOnaxYpQAAAAQAZ59dEK/AAX4BTPK/JTp8AAAABABnn9qQr8ACW7PHK/txEvBAAAAGUGaY0moQWiZTAhv//6nhAALr7qcf4fVt8sAAAASQZ6BRREsK/8ACWygCAUwDpdBAAAADgGeompCvwAJcGlXU6hzAAAAHUGapUmoQWyZTBRMM//+nhAALH7pvtKoXLrZq4khAAAAEAGexGpCvwAJLJ851oYX+0EAAAAYQZrGSeEKUmUwIZ/+nhAAG79ffyJEfWLpAAAAGEGa50nhDomUwIb//qeEAAS0fMeRif5crQAAAB1BmwlJ4Q8mUwURPDP//p4QABzvXI3Y4aW+vvuQ4AAAABABnyhqQr8ABiHaluGzayuAAAAAGEGbKknhDyZTAhv//qeEAAufon+pSAWewQAAABlBm0tJ4Q8mUwIb//6nhAAR1AFm22fZ84/AAAAAGUGbbEnhDyZTAh3//qmWAAkP0c0s6Op5VcAAAAAWQZuQSeEPJlMCHf/+qZYACIIsN0YrdQAAAA5Bn65FETwv/wAKOyo2YQAAABABn810Qr8ADgKG7p2XZg+BAAAADwGfz2pCvwAOfzholc8v2wAAABpBm9NJqEFomUwIb//+p4QAEW+On1HGhIdgQAAAABJBn/FFESwr/wAOKC851k+T74EAAAAOAZ4SakK/AA4tfTgbU70AAAAdQZoVSahBbJlMFEw7//6plgAFv99X3xhUC0UxD1oAAAAQAZ40akK/AAksshh9ASDvmQAAABJBmjlJ4QpSZTAh3/6plgAAlYAAAAAMQZ5XRTRML/8AALKBAAAAEAGednRCvwAGDzk78AH3O0EAAAAQAZ54akK/AAltrXd5JPtk4AAAABJBmn1JqEFomUwIb//+p4QAAScAAAAMQZ6bRREsL/8AALKAAAAAEAGeunRCvwAJcIA6FjEmYnEAAAAQAZ68akK/AAltrXd5JPtk4QAAABxBmqFJqEFsmUwIb//+p4QAC+urVMf6t2+wfr6UAAAAEEGe30UVLC//AAcT+HrrXUAAAAAQAZ7+dEK/AAmvmqB07UQrgQAAAB8BnuBqQr8ADrWhc8JSp//xB+fSz//ECVis/+Y6aKtTAAAAKEGa40moQWyZTBRMM//+nhAAbv2QOXmWVz3j5liWC+ZZNg4KH57uN6UAAAAQAZ8CakK/ABdLHjlf24gcwAAAABtBmwRJ4QpSZTAhn/6eEACscGOfw58QFM/WscEAAAAYQZsmSeEOiZTBTRMM//6eEACw8GOfxGBBAAAAEAGfRWpCvwAkrzRMug6eZekAAAAZQZtHSeEPJlMCGf/+nhAAsNe4v/EdQlvggQAAABdBm2hJ4Q8mUwIZ//6eEAC1V7jBHXY/TAAAABlBm4lJ4Q8mUwIZ//6eEAEVOEc/QHEdvmLAAAAAGUGbqknhDyZTAhn//p4QARU4Ry78XfSj90EAAAAYQZvLSeEPJlMCG//+p4QARb6OaCtZlNc3AAAAH0Gb7UnhDyZTBRE8N//+p4QAZt1bMT/V291PwhnOGSQAAAAQAZ4MakK/AFQsiE3GfXpxuQAAAB5Bmg9J4Q8mUwU8N//+p4QAZ332e7ZdzKzVNbneVYEAAAAQAZ4uakK/AFQa+c60MLyKQQAAABhBmjBJ4Q8mUwIb//6nhAA/vsHr2Z8EWAcAAAAZQZpRSeEPJlMCHf/+qZYAH19pfzukKYRW0AAAABJBmnVJ4Q8mUwId//6plgAAlYEAAAAMQZ6TRRE8L/8AALKAAAAADwGesnRCvwAhu47o7b4WWwAAABABnrRqQr8AM4lbF6uw5MrBAAAAEkGauUmoQWiZTAhv//6nhAABJwAAAAxBntdFESwv/wAAsoEAAAAQAZ72dEK/ADOWVd1fjvAOYQAAABABnvhqQr8AM4lbF6uw5MrAAAAAGkGa+kmoQWyZTAh3//6plgAfNMhJuHBR81bRAAAAEkGbHknhClJlMCHf/qmWAACVgAAAAAxBnzxFNEwv/wAAsoEAAAAQAZ9bdEK/AE+6Ac/rQOSkwQAAAA8Bn11qQr8ANMCxolc8u4EAAAAcQZtASahBaJlMFPDv/qmWAB9faX9iwHRAtxjA4gAAABABn39qQr8ANMzc1x4q2mVhAAAAEkGbZEnhClJlMCHf/qmWAACVgAAAABNBn4JFNEwv/wAnybOTNuHBLmnNAAAADwGfoXRCvwA2Elm4NkvHcQAAAA8Bn6NqQr8ANgS0qRQJVekAAAAZQZuoSahBaJlMCHf//qmWACEKnD/faX3QDwAAABBBn8ZFESwv/wAnzLBPjfzBAAAADwGf5XRCvwA2Elm4NkvHcQAAAA8Bn+dqQr8ANhYsC6/wC6AAAAAaQZvrSahBbJlMCHf//qmWACE/HnSzo6nki8AAAAASQZ4JRRUsK/8ANgR6IBTAOS5hAAAADgGeKmpCvwA2FiVdTpwvAAAAHEGaL0moQWyZTAh3//6plgAgPx5/Ls9qFkKXPscAAAAQQZ5NRRUsL/8AJrn7NwQT8QAAAA8Bnmx0Qr8ANMkohTBGG4EAAAAQAZ5uakK/ADTEdudaGF5kwQAAABJBmnNJqEFsmUwIb//+p4QAAScAAAAMQZ6RRRUsL/8AALKAAAAAEAGesHRCvwAzllXdX47wDmEAAAAQAZ6yakK/ADOJWxersOTKwAAAABpBmrRJqEFsmUwId//+qZYAFS0srjNL+2BTQAAAABJBmthJ4QpSZTAh3/6plgAAlYEAAAAMQZ72RTRML/8AALKAAAAADwGfFXRCvwAiu47o7b4WUwAAABABnxdqQr8AIUqR3s8fb2uBAAAAE0GbHEmoQWiZTAh3//6plgAAlYAAAAAUQZ86RREsL/8AJbHz6LFdhFr73U0AAAAQAZ9ZdEK/ADOSaET4sxR3mAAAABABn1tqQr8AM4TJNN9JByNxAAAAGUGbQEmoQWyZTAh3//6plgAfNdMj++r7tbMAAAAQQZ9+RRUsL/8AJbQHLyKc4AAAABABn510Qr8ANNZV3IbKlJfgAAAADwGfn2pCvwAzliwLr/AOYQAAABNBm4RJqEFsmUwId//+qZYAAJWAAAAADEGfokUVLC//AACygQAAABABn8F0Qr8ANM8m6O2+Fd6AAAAAEAGfw2pCvwAy+cnezx9vHYEAAAATQZvISahBbJlMCHf//qmWAACVgQAAAAxBn+ZFFSwv/wAAsoEAAAAQAZ4FdEK/ADL5yd+AD7eOwQAAAA8BngdqQr8ANMCxolc8u4EAAAATQZoMSahBbJlMCHf//qmWAACVgAAAAAxBnipFFSwv/wAAsoEAAAAQAZ5JdEK/ADTPJujtvhXegAAAAA8BnktqQr8ANMCxolc8u4EAAAATQZpQSahBbJlMCHf//qmWAACVgQAAAAxBnm5FFSwv/wAAsoEAAAAQAZ6NdEK/ADL5yd+AD7eOwQAAABABno9qQr8AMvnJ3s8fbx2AAAAAE0GalEmoQWyZTAh3//6plgAAlYAAAAAMQZ6yRRUsL/8AALKBAAAAEAGe0XRCvwA0zybo7b4V3oAAAAAPAZ7TakK/ADTAsaJXPLuBAAAAGkGa10moQWyZTAh3//6plgAfX2l/O6QphFbRAAAAD0Ge9UUVLCv/ADOEtZqOYAAAAA0BnxZqQr8AM5YsPFRzAAAAHkGbG0moQWyZTAhv//6nhAApHup+60szU2595tYLOQAAABBBnzlFFSwv/wAYgRxnHJLdAAAAEAGfWHRCvwAgrtSeV+Sm4LEAAAAPAZ9aakK/ABYuUDyYI3uAAAAAGkGbXkmoQWyZTAhv//6nhAAbH2D/CcFuhOpBAAAAD0GffEUVLCv/ABYm3AlxwQAAAA8Bn51qQr8ADi180OtGK4AAAAAaQZuBSahBbJlMCG///qeEABFvjp9RxoSHYEAAAAAPQZ+/RRUsK/8ADig/5szhAAAADwGfwGpCvwAJMGgeTBI+gAAAAB1Bm8NJqEFsmUwUTDP//p4QACx+6b7SqFy62auJIQAAAA8Bn+JqQr8ACSyt0o0h5FYAAAAZQZvkSeEKUmUwIb/+p4QABxvYP8JwW6GEQQAAABhBmgVJ4Q6JlMCG//6nhAAEtHzHkYn+XK0AAAAdQZonSeEPJlMFETw3//6nhAAHaB4cWNUP98dPHiUAAAAQAZ5GakK/AAYh2pbhs2srgQAAABxBmklJ4Q8mUwU8O//+qZYABbdLOUGaBT6MfpvmAAAAEAGeaGpCvwAJa80TImlaHMAAAAAYQZptSeEPJlMCG//+p4QAC2e6n7rfHePFAAAAEEGei0URPC//AAbBV43sGbgAAAAPAZ6qdEK/AAktoQGSXUCAAAAAEAGerGpCvwAJLLIYfQEg75kAAAAbQZqvSahBaJlMFPDv/qmWAAW4J0j/ARK/2OxBAAAAEAGezmpCvwAJa80TImlaHMEAAAARQZrTSeEKUmUwIb/+p4QAAScAAAAMQZ7xRTRML/8AALKAAAAADwGfEHRCvwAJEqRxHZdmgQAAAA8BnxJqQr8ACRKkbrPVoJ4AAAAeQZsXSahBaJlMCG///qeEAAv/rDcyyxMjvu1pcXK6AAAAEEGfNUURLC//AAcVPWQT7yEAAAAPAZ9UdEK/AAktoQGSXUCAAAAAEAGfVmpCvwAJrsR5LmfKC4EAAAAaQZtYSahBbJlMCG///qeEABJUAWbbZ9nzjcEAAAAnQZt6SeEKUmUwUVLDv/6plgAWbkmB8Qg2//CVUM3//pSXgJHL9PSwAAAAEAGfmWpCvwAjuzxyv7cP/MEAAAASQZueSeEOiZTAh3/+qZYAAJWAAAAADEGfvEUVPC//AACygQAAAA8Bn9t0Qr8AI0qRxHZdlkkAAAAQAZ/dakK/ACNKkd7PH29ggAAAABxBm8JJqEFomUwIb//+p4QAQUfNU1m3NeOn2r9YAAAAEEGf4EURLC//ACfMsVCCmuEAAAAQAZ4fdEK/ADYSaET4sxR26AAAAA8BngFqQr8ANhYsC6/wC6EAAAAZQZoGSahBbJlMCGf//p4QAP76+/qHH72B2AAAABBBniRFFSwv/wAnzLFQgprhAAAAEAGeQ3RCvwA3TybytlD0xcEAAAAPAZ5FakK/ACPBoHkwRmOBAAAAGUGaR0moQWyZTAhn//6eEACte6b6KlZr4YMAAAAcQZppS+EIQpSRGCCgH8gH9h4BRUsK//44QAARcAAAACUBnohqQr8Cr2PtQcTdqsNJJuWqhgcstbvNLBWP4FSWrpUpLYGAAAAL+G1vb3YAAABsbXZoZAAAAAAAAAAAAAAAAAAAA+gAAB+QAAEAAAEAAAAAAAAAAAAAAAABAAAAAAAAAAAAAAAAAAAAAQAAAAAAAAAAAAAAAAAAQAAAAAAAAAAAAAAAAAAAAAAAAAAAAAAAAAAAAAAAAAIAAAsidHJhawAAAFx0a2hkAAAAAwAAAAAAAAAAAAAAAQAAAAAAAB+QAAAAAAAAAAAAAAAAAAAAAAABAAAAAAAAAAAAAAAAAAAAAQAAAAAAAAAAAAAAAAAAQAAAAAEQAAABEAAAAAAAJGVkdHMAAAAcZWxzdAAAAAAAAAABAAAfkAAABAAAAQAAAAAKmm1kaWEAAAAgbWRoZAAAAAAAAAAAAAAAAAAAMgAAAZQAVcQAAAAAAC1oZGxyAAAAAAAAAAB2aWRlAAAAAAAAAAAAAAAAVmlkZW9IYW5kbGVyAAAACkVtaW5mAAAAFHZtaGQAAAABAAAAAAAAAAAAAAAkZGluZgAAABxkcmVmAAAAAAAAAAEAAAAMdXJsIAAAAAEAAAoFc3RibAAAAJVzdHNkAAAAAAAAAAEAAACFYXZjMQAAAAAAAAABAAAAAAAAAAAAAAAAAAAAAAEQARAASAAAAEgAAAAAAAAAAQAAAAAAAAAAAAAAAAAAAAAAAAAAAAAAAAAAAAAAAAAAABj//wAAAC9hdmNDAfQADf/hABdn9AANkZsoIhHQgAAAAwCAAAAZB4oUywEABWjr48RIAAAAGHN0dHMAAAAAAAAAAQAAAMoAAAIAAAAAFHN0c3MAAAAAAAAAAQAAAAEAAAXQY3R0cwAAAAAAAAC4AAAAAQAABAAAAAABAAAKAAAAAAEAAAQAAAAAAQAAAAAAAAABAAACAAAAAAEAAAYAAAAAAQAAAgAAAAABAAAGAAAAAAEAAAIAAAAAAQAABgAAAAABAAACAAAAAAEAAAgAAAAAAgAAAgAAAAABAAAGAAAAAAEAAAIAAAAAAwAABAAAAAABAAAKAAAAAAEAAAQAAAAAAQAAAAAAAAABAAACAAAAAAEAAAoAAAAAAQAABAAAAAABAAAAAAAAAAEAAAIAAAAAAQAABgAAAAABAAACAAAAAAEAAAoAAAAAAQAABAAAAAABAAAAAAAAAAEAAAIAAAAAAQAACAAAAAACAAACAAAAAAEAAAYAAAAAAQAAAgAAAAACAAAEAAAAAAEAAAYAAAAAAQAAAgAAAAADAAAEAAAAAAEAAAoAAAAAAQAABAAAAAABAAAAAAAAAAEAAAIAAAAAAQAACAAAAAACAAACAAAAAAEAAAYAAAAAAQAAAgAAAAABAAAKAAAAAAEAAAQAAAAAAQAAAAAAAAABAAACAAAAAAEAAAoAAAAAAQAABAAAAAABAAAAAAAAAAEAAAIAAAAAAQAACgAAAAABAAAEAAAAAAEAAAAAAAAAAQAAAgAAAAABAAAGAAAAAAEAAAIAAAAAAQAABAAAAAABAAAGAAAAAAEAAAIAAAAABQAABAAAAAABAAAGAAAAAAEAAAIAAAAAAQAABgAAAAABAAACAAAAAAIAAAQAAAAAAQAACgAAAAABAAAEAAAAAAEAAAAAAAAAAQAAAgAAAAABAAAKAAAAAAEAAAQAAAAAAQAAAAAAAAABAAACAAAAAAEAAAQAAAAAAQAACgAAAAABAAAEAAAAAAEAAAAAAAAAAQAAAgAAAAABAAAGAAAAAAEAAAIAAAAAAQAACgAAAAABAAAEAAAAAAEAAAAAAAAAAQAAAgAAAAABAAAKAAAAAAEAAAQAAAAAAQAAAAAAAAABAAACAAAAAAEAAAgAAAAAAgAAAgAAAAABAAAKAAAAAAEAAAQAAAAAAQAAAAAAAAABAAACAAAAAAEAAAoAAAAAAQAABAAAAAABAAAAAAAAAAEAAAIAAAAAAQAABAAAAAABAAAKAAAAAAEAAAQAAAAAAQAAAAAAAAABAAACAAAAAAEAAAoAAAAAAQAABAAAAAABAAAAAAAAAAEAAAIAAAAAAQAACgAAAAABAAAEAAAAAAEAAAAAAAAAAQAAAgAAAAABAAAKAAAAAAEAAAQAAAAAAQAAAAAAAAABAAACAAAAAAEAAAoAAAAAAQAABAAAAAABAAAAAAAAAAEAAAIAAAAAAQAACgAAAAABAAAEAAAAAAEAAAAAAAAAAQAAAgAAAAABAAAKAAAAAAEAAAQAAAAAAQAAAAAAAAABAAACAAAAAAEAAAoAAAAAAQAABAAAAAABAAAAAAAAAAEAAAIAAAAAAQAACAAAAAACAAACAAAAAAEAAAoAAAAAAQAABAAAAAABAAAAAAAAAAEAAAIAAAAAAQAACAAAAAACAAACAAAAAAEAAAgAAAAAAgAAAgAAAAABAAAGAAAAAAEAAAIAAAAAAgAABAAAAAABAAAGAAAAAAEAAAIAAAAAAQAABgAAAAABAAACAAAAAAEAAAoAAAAAAQAABAAAAAABAAAAAAAAAAEAAAIAAAAAAQAABgAAAAABAAACAAAAAAEAAAoAAAAAAQAABAAAAAABAAAAAAAAAAEAAAIAAAAAAQAACgAAAAABAAAEAAAAAAEAAAAAAAAAAQAAAgAAAAABAAAEAAAAAAEAAAYAAAAAAQAAAgAAAAABAAAKAAAAAAEAAAQAAAAAAQAAAAAAAAABAAACAAAAAAEAAAoAAAAAAQAABAAAAAABAAAAAAAAAAEAAAIAAAAAAQAACgAAAAABAAAEAAAAAAEAAAAAAAAAAQAAAgAAAAABAAAEAAAAAAEAAAYAAAAAAQAAAgAAAAAcc3RzYwAAAAAAAAABAAAAAQAAAMoAAAABAAADPHN0c3oAAAAAAAAAAAAAAMoAAAX4AAAALAAAACcAAAAUAAAAFAAAABYAAAATAAAAFgAAABUAAAAWAAAAFQAAAB4AAAAWAAAAEgAAACAAAAAUAAAAHAAAAB0AAAAdAAAAMQAAABUAAAATAAAAEwAAACoAAAAUAAAAFAAAABMAAAAhAAAAEwAAABwAAAAZAAAAFAAAABQAAAAdAAAAFgAAABIAAAAhAAAAFAAAABwAAAAcAAAAIQAAABQAAAAcAAAAHQAAAB0AAAAaAAAAEgAAABQAAAATAAAAHgAAABYAAAASAAAAIQAAABQAAAAWAAAAEAAAABQAAAAUAAAAFgAAABAAAAAUAAAAFAAAACAAAAAUAAAAFAAAACMAAAAsAAAAFAAAAB8AAAAcAAAAFAAAAB0AAAAbAAAAHQAAAB0AAAAcAAAAIwAAABQAAAAiAAAAFAAAABwAAAAdAAAAFgAAABAAAAATAAAAFAAAABYAAAAQAAAAFAAAABQAAAAeAAAAFgAAABAAAAAUAAAAEwAAACAAAAAUAAAAFgAAABcAAAATAAAAEwAAAB0AAAAUAAAAEwAAABMAAAAeAAAAFgAAABIAAAAgAAAAFAAAABMAAAAUAAAAFgAAABAAAAAUAAAAFAAAAB4AAAAWAAAAEAAAABMAAAAUAAAAFwAAABgAAAAUAAAAFAAAAB0AAAAUAAAAFAAAABMAAAAXAAAAEAAAABQAAAAUAAAAFwAAABAAAAAUAAAAEwAAABcAAAAQAAAAFAAAABMAAAAXAAAAEAAAABQAAAAUAAAAFwAAABAAAAAUAAAAEwAAAB4AAAATAAAAEQAAACIAAAAUAAAAFAAAABMAAAAeAAAAEwAAABMAAAAeAAAAEwAAABMAAAAhAAAAEwAAAB0AAAAcAAAAIQAAABQAAAAgAAAAFAAAABwAAAAUAAAAEwAAABQAAAAfAAAAFAAAABUAAAAQAAAAEwAAABMAAAAiAAAAFAAAABMAAAAUAAAAHgAAACsAAAAUAAAAFgAAABAAAAATAAAAFAAAACAAAAAUAAAAFAAAABMAAAAdAAAAFAAAABQAAAATAAAAHQAAACAAAAApAAAAFHN0Y28AAAAAAAAAAQAAADAAAABidWR0YQAAAFptZXRhAAAAAAAAACFoZGxyAAAAAAAAAABtZGlyYXBwbAAAAAAAAAAAAAAAAC1pbHN0AAAAJal0b28AAAAdZGF0YQAAAAEAAAAATGF2ZjU4LjIwLjEwMA==\" type=\"video/mp4\" />\n",
       "             </video>"
      ],
      "text/plain": [
       "<IPython.core.display.HTML object>"
      ]
     },
     "execution_count": 77,
     "metadata": {},
     "output_type": "execute_result"
    }
   ],
   "source": [
    "env = Environment(grid_size=size, max_time=T, temperature=0.3)\n",
    "agent = DQN_CNN(size, lr=.5, epsilon = 0.1, memory_size=5000, batch_size = 20)\n",
    "train(agent,env,epochs_train,prefix='cnn_train')\n",
    "HTML(display_videos('cnn_train10.mp4'))"
   ]
  },
  {
   "cell_type": "markdown",
   "metadata": {},
   "source": [
    "## Comparison of several neural networks changing parameters:\n",
    "\n",
    "For this part, I tried to change the parameters: Learning Rate(LR), Epsilon, Memory size, and the batch size \n",
    "\n",
    "Architecture 1: Hidden Convolutional Layer (50,2,2), the (30,2,2) with relu activations.\n",
    "\n",
    "We find that the best score is got when we use the following parameters:\n",
    "**lr=.5, epsilon = 0.1, memory_size=5000, batch_size = 20**\n",
    "\n",
    "**EXPERIMENT'S RESULTS**\n",
    "\n",
    "|Architecture | # Epochs | LR | Epsilon | Memory size| Batch size | Avg Score | Std Desv. \n",
    "| :------ | :------: | ------: | ------: |------: |------: |------: |------: |\n",
    "| 1 | 25 | 0.1 | 0.1 | 2000 | 32 |  4.74 | 5.59\n",
    "| 1 | 25 | 0.1 | 0.1 | 5000 | 32 |  3.68 | 3.03\n",
    "| 1 | 25 | 0.1 | 0.5 | 2000 | 32 |  2.58 | 4.51\n",
    "| 1 | 25 | 0.1 | 0.5 | 5000 | 32 |  2.04 | 3.82\n",
    "| 1 | 25 | 0.5 | 0.1 | 2000 | 32 |  6.94 | 4.34\n",
    "| 1 | 25 | 0.5 | 0.1 | 5000 | 32 |  7.18 | 5.06\n",
    "| 1 | 25 | 0.5 | 0.5 | 2000 | 32 |  1.46 | 4.31\n",
    "| 1 | 25 | 0.5 | 0.5 | 5000 | 32 |  3.70 | 4.85\n",
    "| 1 | 25 | 0.1 | 0.1 | 2000 | 20 |  2.90 | 4.09\n",
    "| 1 | 25 | 0.1 | 0.1 | 5000 | 20 |  5.42 | 5.55\n",
    "| 1 | 25 | 0.1 | 0.5 | 2000 | 20 |  1.20 | 3.95\n",
    "| 1 | 25 | 0.1 | 0.5 | 5000 | 20 |  2.32 | 4.03\n",
    "| 1 | 25 | 0.5 | 0.1 | 2000 | 20 |  5.52 | 4.30\n",
    "| 1 | 25 | 0.5 | 0.1 | 5000 | 20 |  7.54 | 5.22\n",
    "| 1 | 25 | 0.5 | 0.5 | 2000 | 20 |  2.70 | 4.32\n",
    "| 1 | 25 | 0.5 | 0.5 | 5000 | 20 |  1.46 | 3.92"
   ]
  },
  {
   "cell_type": "markdown",
   "metadata": {},
   "source": [
    "\n",
    "\n",
    "__Question 9__ Test both algorithms and compare their performances. Which issue(s) do you observe? Observe also different behaviors by changing the temperature."
   ]
  },
  {
   "cell_type": "code",
   "execution_count": 87,
   "metadata": {},
   "outputs": [
    {
     "name": "stdout",
     "output_type": "stream",
     "text": [
      "Test of the CNN\n",
      "Epoch 1: Win/lose count 9.0/0. Average score (9.0)\n",
      "Epoch 2: Win/lose count 13.5/0. Average score (11.25)\n",
      "Epoch 3: Win/lose count 18.0/0. Average score (13.5)\n",
      "Epoch 4: Win/lose count 1.5/0. Average score (10.5)\n",
      "Epoch 5: Win/lose count 2.5/0. Average score (8.9)\n",
      "Epoch 6: Win/lose count 13.0/0. Average score (9.583333333333334)\n",
      "Epoch 7: Win/lose count 5.5/0. Average score (9.0)\n",
      "Epoch 8: Win/lose count 11.0/0. Average score (9.25)\n",
      "Epoch 9: Win/lose count 6.0/0. Average score (8.88888888888889)\n",
      "Epoch 10: Win/lose count 2.5/0. Average score (8.25)\n",
      "Epoch 11: Win/lose count 1.5/0. Average score (7.636363636363637)\n",
      "Epoch 12: Win/lose count 2.0/0. Average score (7.166666666666667)\n",
      "Epoch 13: Win/lose count 6.5/0. Average score (7.115384615384615)\n",
      "Epoch 14: Win/lose count 7.5/0. Average score (7.142857142857143)\n",
      "Epoch 15: Win/lose count 2.0/0. Average score (6.8)\n",
      "Epoch 16: Win/lose count 7.0/0. Average score (6.8125)\n",
      "Epoch 17: Win/lose count 5.0/0. Average score (6.705882352941177)\n",
      "Epoch 18: Win/lose count 12.5/0. Average score (7.027777777777778)\n",
      "Epoch 19: Win/lose count 8.0/0. Average score (7.078947368421052)\n",
      "Epoch 20: Win/lose count 5.0/0. Average score (6.975)\n",
      "Epoch 21: Win/lose count 8.5/0. Average score (7.0476190476190474)\n",
      "Epoch 22: Win/lose count 17.5/0. Average score (7.5227272727272725)\n",
      "Epoch 23: Win/lose count 12.5/0. Average score (7.739130434782608)\n",
      "Epoch 24: Win/lose count 0.5/0. Average score (7.4375)\n",
      "Epoch 25: Win/lose count 19.5/0. Average score (7.92)\n",
      "Final score: 7.92\n",
      "Test of the FC\n",
      "Epoch 1: Win/lose count 0.5/0. Average score (0.5)\n",
      "Epoch 2: Win/lose count 0.5/1.0. Average score (0.0)\n",
      "Epoch 3: Win/lose count 1.5/1.0. Average score (0.16666666666666666)\n",
      "Epoch 4: Win/lose count 0.5/0. Average score (0.25)\n",
      "Epoch 5: Win/lose count 0.5/1.0. Average score (0.1)\n",
      "Epoch 6: Win/lose count 0.5/0. Average score (0.16666666666666666)\n",
      "Epoch 7: Win/lose count 3.0/0. Average score (0.5714285714285714)\n",
      "Epoch 8: Win/lose count 0.5/0. Average score (0.5625)\n",
      "Epoch 9: Win/lose count 0.5/0. Average score (0.5555555555555556)\n",
      "Epoch 10: Win/lose count 1.5/0. Average score (0.65)\n",
      "Epoch 11: Win/lose count 0.5/0. Average score (0.6363636363636364)\n",
      "Epoch 12: Win/lose count 0.5/0. Average score (0.625)\n",
      "Epoch 13: Win/lose count 1.0/0. Average score (0.6538461538461539)\n",
      "Epoch 14: Win/lose count 1.0/0. Average score (0.6785714285714286)\n",
      "Epoch 15: Win/lose count 2.0/0. Average score (0.7666666666666667)\n",
      "Epoch 16: Win/lose count 1.0/0. Average score (0.78125)\n",
      "Epoch 17: Win/lose count 0/0. Average score (0.7352941176470589)\n",
      "Epoch 18: Win/lose count 0.5/0. Average score (0.7222222222222222)\n",
      "Epoch 19: Win/lose count 3.0/1.0. Average score (0.7894736842105263)\n",
      "Epoch 20: Win/lose count 0.5/0. Average score (0.775)\n",
      "Epoch 21: Win/lose count 0.5/0. Average score (0.7619047619047619)\n",
      "Epoch 22: Win/lose count 0.5/0. Average score (0.75)\n",
      "Epoch 23: Win/lose count 0.5/0. Average score (0.7391304347826086)\n",
      "Epoch 24: Win/lose count 3.0/1.0. Average score (0.7916666666666666)\n",
      "Epoch 25: Win/lose count 0/0. Average score (0.76)\n",
      "Final score: 0.76\n"
     ]
    }
   ],
   "source": [
    "env = Environment(grid_size=size, max_time=T,temperature=0.8)\n",
    "agent_cnn = DQN_CNN(size, lr=.1, epsilon = 0.1, memory_size=2000, batch_size = 32)\n",
    "agent_cnn.load(name_weights='cnn_trainmodel.h5',name_model='cnn_trainmodel.json')\n",
    "\n",
    "agent_fc = DQN_FC(size, lr=.1, epsilon = 0.1, memory_size=2000, batch_size = 32)\n",
    "agent_cnn.load(name_weights='fc_trainmodel.h5',name_model='fc_trainmodel.json')\n",
    "print('Test of the CNN')\n",
    "test(agent_cnn,env,epochs_test,prefix='cnn_test')\n",
    "print('Test of the FC')\n",
    "test(agent_fc,env,epochs_test,prefix='fc_test')"
   ]
  },
  {
   "cell_type": "code",
   "execution_count": 88,
   "metadata": {},
   "outputs": [
    {
     "data": {
      "text/html": [
       "<video alt=\"test\" controls>\n",
       "                <source src=\"data:video/mp4;base64,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\" type=\"video/mp4\" />\n",
       "             </video>"
      ],
      "text/plain": [
       "<IPython.core.display.HTML object>"
      ]
     },
     "execution_count": 88,
     "metadata": {},
     "output_type": "execute_result"
    }
   ],
   "source": [
    "HTML(display_videos('cnn_test10.mp4'))"
   ]
  },
  {
   "cell_type": "code",
   "execution_count": 89,
   "metadata": {},
   "outputs": [
    {
     "data": {
      "text/html": [
       "<video alt=\"test\" controls>\n",
       "                <source src=\"data:video/mp4;base64,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\" type=\"video/mp4\" />\n",
       "             </video>"
      ],
      "text/plain": [
       "<IPython.core.display.HTML object>"
      ]
     },
     "execution_count": 89,
     "metadata": {},
     "output_type": "execute_result"
    }
   ],
   "source": [
    "HTML(display_videos('fc_test10.mp4'))"
   ]
  },
  {
   "cell_type": "markdown",
   "metadata": {},
   "source": [
    "## Comparison of several neural networks changing temperature:\n",
    "\n",
    "For this part, I tried to change the parameters: temperature 3 times with the following results:\n",
    "\n",
    "**EXPERIMENT'S RESULTS**\n",
    "\n",
    "|Architecture | Temperature | Final Score\n",
    "| :------ | :------: | ------: | \n",
    "| CNN | 0.3 | 1.78  \n",
    "| CNN | 0.5 | 3.50\n",
    "| CNN | 0.8 | 7.92 \n",
    "| FC  | 0.3 | -0.46  \n",
    "| FC  | 0.5 | 0.16\n",
    "| FC  | 0.8 | 0.76 \n",
    "\n",
    "We notice that in all the combinations the CNN model performs better than FC. Also we notice that if we increase the temperature, the final score result increases, but checking the performance in the videos, they show that the rat stays in the same 2 steps for the whole video, and it is not exploring the rest of the map. This happens because from the current position, the rat can't see any other positive reward.\n"
   ]
  },
  {
   "cell_type": "markdown",
   "metadata": {},
   "source": [
    "***\n",
    "\n",
    "The algorithm tends to not explore the map which can be an issue. We propose two ideas in order to encourage exploration:\n",
    "1. Incorporating a decreasing $\\epsilon$-greedy exploration. You can use the method ```set_epsilon```\n",
    "2. Append via the environment a new state that describes if a cell has been visited or not\n",
    "\n",
    "***\n",
    "__Question 10__ Design a new ```train_explore``` function and environment class ```EnvironmentExploring``` to tackle the issue of exploration.\n",
    "\n"
   ]
  },
  {
   "cell_type": "code",
   "execution_count": 97,
   "metadata": {},
   "outputs": [],
   "source": [
    "def train_explore(agent,env,epoch,prefix=''):\n",
    "    #New training procedure that tries to improve the exploration of the algorithm\n",
    "    \n",
    "    # Number of won games\n",
    "    score = 0\n",
    "    loss  = 0\n",
    "\n",
    "    for e in range(epoch):\n",
    "        # At each epoch, we restart to a fresh game and get the initial state\n",
    "        state = env.reset()\n",
    "        # This assumes that the games will terminate\n",
    "        game_over = False\n",
    "\n",
    "        win = 0\n",
    "        lose = 0\n",
    "        \n",
    "        # Decreasing epsilon greedy exploration\n",
    "        agent.set_epsilon(agent.epsilon)\n",
    "        \n",
    "        while not game_over:\n",
    "            # The agent performs an action\n",
    "            action = agent.act(state)\n",
    "\n",
    "            # Apply an action to the environment, get the next state, the reward\n",
    "            # and if the games end\n",
    "            prev_state = state\n",
    "            state, reward, game_over = env.act(action, train=True)\n",
    "\n",
    "            # Update the counters\n",
    "            if reward > 0:\n",
    "                win = win + reward\n",
    "            if reward < 0:\n",
    "                lose = lose -reward\n",
    "\n",
    "            # Apply the reinforcement strategy\n",
    "            loss = agent.reinforce(prev_state, state,  action, reward, game_over)\n",
    "\n",
    "        # Save as a mp4\n",
    "        if e % 10 == 0:\n",
    "            env.draw(prefix+str(e))\n",
    "\n",
    "        # Update stats\n",
    "        score += win-lose\n",
    "\n",
    "        print(\"Epoch {:03d}/{:03d} | Loss {:.4f} | Win/lose count {}/{} ({})\"\n",
    "              .format(e+1, epoch, loss, win, lose, win-lose))\n",
    "        agent.save(name_weights=prefix+'model.h5',name_model=prefix+'model.json')\n",
    "        \n",
    "class EnvironmentExploring(object):\n",
    "    def __init__(self, grid_size=10, max_time=500, temperature=0.1):\n",
    "        grid_size = grid_size+4\n",
    "        self.grid_size = grid_size\n",
    "        self.max_time = max_time\n",
    "        self.temperature = temperature\n",
    "\n",
    "        #board on which one plays\n",
    "        self.board = np.zeros((grid_size,grid_size))\n",
    "        self.position = np.zeros((grid_size,grid_size))\n",
    "        self.malus_position = np.zeros((grid_size,grid_size)) #define malus when going to a previously visited position\n",
    "        # coordinate of the rat\n",
    "        self.x = 0\n",
    "        self.y = 1\n",
    "\n",
    "        # self time\n",
    "        self.t = 0\n",
    "\n",
    "        self.scale=16\n",
    "\n",
    "        self.to_draw = np.zeros((max_time+2, grid_size*self.scale, grid_size*self.scale, 3))\n",
    "\n",
    "\n",
    "    def draw(self,e):\n",
    "        skvideo.io.vwrite(str(e) + '.mp4', self.to_draw)\n",
    "\n",
    "    def get_frame(self,t):\n",
    "        b = np.zeros((self.grid_size,self.grid_size,3))+128\n",
    "        b[self.board>0,0] = 256\n",
    "        b[self.board < 0, 2] = 256\n",
    "        b[self.x,self.y,:]=256\n",
    "        b[-2:,:,:]=0\n",
    "        b[:,-2:,:]=0\n",
    "        b[:2,:,:]=0\n",
    "        b[:,:2,:]=0\n",
    "        \n",
    "        b =  cv2.resize(b, None, fx=self.scale, fy=self.scale, interpolation=cv2.INTER_NEAREST)\n",
    "\n",
    "        self.to_draw[t,:,:,:]=b\n",
    "\n",
    "\n",
    "    def act(self, action,train=False):\n",
    "        \"\"\"This function returns the new state, reward and decides if the\n",
    "        game ends.\"\"\"\n",
    "        # In the previous questions, we noticed that the rat is not exploring the whole\n",
    "        # map. With this function, we are going to improve this part.\n",
    "\n",
    "        self.get_frame(int(self.t))\n",
    "\n",
    "        self.position = np.zeros((self.grid_size, self.grid_size))\n",
    "\n",
    "        self.position[0:2,:]= -1\n",
    "        self.position[:,0:2] = -1\n",
    "        self.position[-2:, :] = -1\n",
    "        self.position[:, -2:] = -1\n",
    "\n",
    "        self.position[self.x, self.y] = 1\n",
    "        if action == 0:\n",
    "            if self.x == self.grid_size-3:\n",
    "                self.x = self.x-1\n",
    "            else:\n",
    "                self.x = self.x + 1\n",
    "        elif action == 1:\n",
    "            if self.x == 2:\n",
    "                self.x = self.x+1\n",
    "            else:\n",
    "                self.x = self.x-1\n",
    "        elif action == 2:\n",
    "            if self.y == self.grid_size - 3:\n",
    "                self.y = self.y - 1\n",
    "            else:\n",
    "                self.y = self.y + 1\n",
    "        elif action == 3:\n",
    "            if self.y == 2:\n",
    "                self.y = self.y + 1\n",
    "            else:\n",
    "                self.y = self.y - 1\n",
    "        else:\n",
    "            RuntimeError('Error: action not recognized')\n",
    "\n",
    "        self.t = self.t + 1     \n",
    "        \n",
    "        ## In Environment exploring:\n",
    "        # You will have to change n_state to 3 because you will use one more layer!\n",
    "        reward = 0\n",
    "        if train:\n",
    "            reward = -self.malus_position[self.x, self.y]\n",
    "        self.malus_position[self.x, self.y] = 0.1\n",
    "\n",
    "        reward = reward + self.board[self.x, self.y]\n",
    "        self.board[self.x, self.y] = 0\n",
    "        game_over = self.t > self.max_time\n",
    "        \n",
    "        # 3 \"feature\" states instead of 2\n",
    "        state = np.concatenate((self.malus_position.reshape(self.grid_size, self.grid_size,1),\n",
    "                                        self.board.reshape(self.grid_size, self.grid_size,1),\n",
    "                                self.position.reshape(self.grid_size, self.grid_size,1)),axis=2)\n",
    "        state = state[self.x-2:self.x+3,self.y-2:self.y+3,:]\n",
    "\n",
    "        return state, reward, game_over\n",
    "\n",
    "    def reset(self):\n",
    "        \"\"\"This function resets the game and returns the initial state\"\"\"\n",
    "\n",
    "        self.x = np.random.randint(3, self.grid_size-3, size=1)[0]\n",
    "        self.y = np.random.randint(3, self.grid_size-3, size=1)[0]\n",
    "\n",
    "\n",
    "        bonus = 0.5*np.random.binomial(1,self.temperature,size=self.grid_size**2)\n",
    "        bonus = bonus.reshape(self.grid_size,self.grid_size)\n",
    "\n",
    "        malus = -1.0*np.random.binomial(1,self.temperature,size=self.grid_size**2)\n",
    "        malus = malus.reshape(self.grid_size, self.grid_size)\n",
    "\n",
    "        self.to_draw = np.zeros((self.max_time+2, self.grid_size*self.scale, self.grid_size*self.scale, 3))\n",
    "\n",
    "\n",
    "        malus[bonus>0]=0\n",
    "\n",
    "        self.board = bonus + malus\n",
    "\n",
    "        self.position = np.zeros((self.grid_size, self.grid_size))\n",
    "        self.position[0:2,:]= -1\n",
    "        self.position[:,0:2] = -1\n",
    "        self.position[-2:, :] = -1\n",
    "        self.position[:,-2:] = -1\n",
    "        self.board[self.x,self.y] = 0\n",
    "        self.t = 0\n",
    "\n",
    "        self.malus_position = np.zeros((self.grid_size, self.grid_size))\n",
    "        \n",
    "        state = np.concatenate((self.malus_position.reshape(self.grid_size, self.grid_size,1),\n",
    "                                        self.board.reshape(self.grid_size, self.grid_size,1),\n",
    "                                self.position.reshape(self.grid_size, self.grid_size,1)),axis=2)\n",
    "\n",
    "        state = state[self.x - 2:self.x + 3, self.y - 2:self.y + 3, :]\n",
    "        return state"
   ]
  },
  {
   "cell_type": "code",
   "execution_count": 98,
   "metadata": {},
   "outputs": [
    {
     "name": "stderr",
     "output_type": "stream",
     "text": [
      "Exception ignored in: <bound method ScopedTFStatus.__del__ of <tensorflow.python.framework.c_api_util.ScopedTFStatus object at 0x0000007817835B70>>\n",
      "Traceback (most recent call last):\n",
      "  File \"C:\\ProgramData\\Anaconda3\\lib\\site-packages\\tensorflow\\python\\framework\\c_api_util.py\", line 39, in __del__\n",
      "    c_api.TF_DeleteStatus(self.status)\n",
      "AttributeError: 'ScopedTFStatus' object has no attribute 'status'\n"
     ]
    },
    {
     "name": "stdout",
     "output_type": "stream",
     "text": [
      "Epoch 001/025 | Loss 0.0114 | Win/lose count 6.0/22.50000000000006 (-16.50000000000006)\n",
      "Epoch 002/025 | Loss 0.0123 | Win/lose count 3.5/20.50000000000002 (-17.00000000000002)\n",
      "Epoch 003/025 | Loss 0.0065 | Win/lose count 3.5/18.19999999999999 (-14.699999999999989)\n",
      "Epoch 004/025 | Loss 0.0076 | Win/lose count 6.0/18.29999999999999 (-12.29999999999999)\n",
      "Epoch 005/025 | Loss 0.0047 | Win/lose count 13.5/18.5 (-5.0)\n",
      "Epoch 006/025 | Loss 0.0085 | Win/lose count 17.0/15.89999999999997 (1.1000000000000298)\n",
      "Epoch 007/025 | Loss 0.0037 | Win/lose count 13.5/19.50000000000002 (-6.000000000000021)\n",
      "Epoch 008/025 | Loss 0.0119 | Win/lose count 7.5/21.40000000000005 (-13.900000000000048)\n",
      "Epoch 009/025 | Loss 0.0048 | Win/lose count 14.5/15.299999999999962 (-0.7999999999999616)\n",
      "Epoch 010/025 | Loss 0.0096 | Win/lose count 8.0/17.299999999999976 (-9.299999999999976)\n",
      "Epoch 011/025 | Loss 0.0079 | Win/lose count 14.5/16.999999999999982 (-2.4999999999999822)\n",
      "Epoch 012/025 | Loss 0.0035 | Win/lose count 4.5/20.100000000000016 (-15.600000000000016)\n",
      "Epoch 013/025 | Loss 0.0085 | Win/lose count 12.0/15.89999999999996 (-3.8999999999999595)\n",
      "Epoch 014/025 | Loss 0.0162 | Win/lose count 25.5/12.899999999999974 (12.600000000000026)\n",
      "Epoch 015/025 | Loss 0.0078 | Win/lose count 20.0/15.699999999999967 (4.300000000000033)\n",
      "Epoch 016/025 | Loss 0.0244 | Win/lose count 11.0/17.499999999999986 (-6.499999999999986)\n",
      "Epoch 017/025 | Loss 0.0080 | Win/lose count 17.5/16.899999999999977 (0.6000000000000227)\n",
      "Epoch 018/025 | Loss 0.0070 | Win/lose count 22.0/12.89999999999998 (9.10000000000002)\n",
      "Epoch 019/025 | Loss 0.0284 | Win/lose count 20.0/11.799999999999974 (8.200000000000026)\n",
      "Epoch 020/025 | Loss 0.0137 | Win/lose count 27.0/13.099999999999975 (13.900000000000025)\n",
      "Epoch 021/025 | Loss 0.0077 | Win/lose count 21.0/14.69999999999997 (6.300000000000029)\n",
      "Epoch 022/025 | Loss 0.0067 | Win/lose count 16.5/18.099999999999998 (-1.5999999999999979)\n",
      "Epoch 023/025 | Loss 0.0103 | Win/lose count 18.5/14.89999999999997 (3.60000000000003)\n",
      "Epoch 024/025 | Loss 0.0069 | Win/lose count 20.5/13.199999999999973 (7.300000000000027)\n",
      "Epoch 025/025 | Loss 0.0267 | Win/lose count 21.0/16.099999999999966 (4.900000000000034)\n"
     ]
    },
    {
     "data": {
      "text/html": [
       "<video alt=\"test\" controls>\n",
       "                <source src=\"data:video/mp4;base64,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\" type=\"video/mp4\" />\n",
       "             </video>"
      ],
      "text/plain": [
       "<IPython.core.display.HTML object>"
      ]
     },
     "execution_count": 98,
     "metadata": {},
     "output_type": "execute_result"
    }
   ],
   "source": [
    "# Training\n",
    "env = EnvironmentExploring(grid_size=size, max_time=T, temperature=0.3)\n",
    "agent = DQN_CNN(size, lr=.1, epsilon = 0.1, memory_size=2000, batch_size = 32,n_state=3)\n",
    "train_explore(agent, env, epochs_train, prefix='cnn_train_explore')\n",
    "HTML(display_videos('cnn_train_explore10.mp4'))"
   ]
  },
  {
   "cell_type": "code",
   "execution_count": 99,
   "metadata": {},
   "outputs": [
    {
     "name": "stdout",
     "output_type": "stream",
     "text": [
      "Epoch 1: Win/lose count 15.5/0. Average score (15.5)\n",
      "Epoch 2: Win/lose count 14.5/3.0. Average score (13.5)\n",
      "Epoch 3: Win/lose count 16.0/1.0. Average score (14.0)\n",
      "Epoch 4: Win/lose count 20.5/1.0. Average score (15.375)\n",
      "Epoch 5: Win/lose count 21.0/0. Average score (16.5)\n",
      "Epoch 6: Win/lose count 21.0/1.0. Average score (17.083333333333332)\n",
      "Epoch 7: Win/lose count 8.0/1.0. Average score (15.642857142857142)\n",
      "Epoch 8: Win/lose count 19.0/0. Average score (16.0625)\n",
      "Epoch 9: Win/lose count 19.0/2.0. Average score (16.166666666666668)\n",
      "Epoch 10: Win/lose count 3.5/0. Average score (14.9)\n",
      "Epoch 11: Win/lose count 17.5/1.0. Average score (15.045454545454545)\n",
      "Epoch 12: Win/lose count 19.5/2.0. Average score (15.25)\n",
      "Epoch 13: Win/lose count 23.5/2.0. Average score (15.73076923076923)\n",
      "Epoch 14: Win/lose count 19.0/3.0. Average score (15.75)\n",
      "Epoch 15: Win/lose count 18.5/1.0. Average score (15.866666666666667)\n",
      "Epoch 16: Win/lose count 16.0/1.0. Average score (15.8125)\n",
      "Epoch 17: Win/lose count 19.0/3.0. Average score (15.823529411764707)\n",
      "Epoch 18: Win/lose count 20.5/1.0. Average score (16.02777777777778)\n",
      "Epoch 19: Win/lose count 17.5/0. Average score (16.105263157894736)\n",
      "Epoch 20: Win/lose count 18.0/1.0. Average score (16.15)\n",
      "Epoch 21: Win/lose count 5.5/0. Average score (15.642857142857142)\n",
      "Epoch 22: Win/lose count 11.0/1.0. Average score (15.386363636363637)\n",
      "Epoch 23: Win/lose count 14.5/0. Average score (15.347826086956522)\n",
      "Epoch 24: Win/lose count 25.5/2.0. Average score (15.6875)\n",
      "Epoch 25: Win/lose count 18.0/0. Average score (15.78)\n",
      "Final score: 15.78\n"
     ]
    },
    {
     "data": {
      "text/html": [
       "<video alt=\"test\" controls>\n",
       "                <source src=\"data:video/mp4;base64,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\" type=\"video/mp4\" />\n",
       "             </video>"
      ],
      "text/plain": [
       "<IPython.core.display.HTML object>"
      ]
     },
     "execution_count": 99,
     "metadata": {},
     "output_type": "execute_result"
    }
   ],
   "source": [
    "# Evaluation\n",
    "test(agent,env,epochs_test,prefix='cnn_test_explore')\n",
    "HTML(display_videos('cnn_test_explore10.mp4'))"
   ]
  },
  {
   "cell_type": "markdown",
   "metadata": {},
   "source": [
    "**Conclusion:**\n",
    "The outcome of this approach has improved a lot vs. the previous experiments. Reaching a score of almost 16 with a temperature of 0.3, when in the previous experiments, we had just reached a reward of less than 10.\n"
   ]
  },
  {
   "cell_type": "markdown",
   "metadata": {},
   "source": [
    "***\n",
    "***\n",
    "__BONUS question__ Use the expert DQN from the previous question to generate some winning games. Train a model that mimicks its behavior. Compare the performances."
   ]
  },
  {
   "cell_type": "code",
   "execution_count": 109,
   "metadata": {},
   "outputs": [],
   "source": [
    "class DQN_Mimick(Agent):\n",
    "    def __init__(self, grid_size,  epsilon = 0.1, memory_size=100, batch_size = 16,n_state=2):\n",
    "        super(DQN_Mimick, self).__init__(epsilon = epsilon)\n",
    "\n",
    "        # Discount for Q learning\n",
    "        self.discount = 0.99\n",
    "        \n",
    "        self.grid_size = grid_size\n",
    "        \n",
    "        # number of state\n",
    "        self.n_state = n_state\n",
    "\n",
    "        # Memory\n",
    "        self.memory = Memory(memory_size)\n",
    "        \n",
    "        # Batch size when learning\n",
    "        self.batch_size = batch_size\n",
    "\n",
    "    def learned_act(self, s):\n",
    "        return np.argmax(self.model.predict(s.reshape([1,s.shape[0],s.shape[1],s.shape[2]]))[0,:])\n",
    "\n",
    "    def reinforce(self, s_, a_):\n",
    "        # Two steps: first memorize the states, second learn from the pool\n",
    "        self.memory.remember([s_[:,:,1:], a_]) \n",
    "        # we just need the current state and the action that has been applied\n",
    "        input_states = np.zeros((self.batch_size, 5,5,self.n_state))\n",
    "        target_q = np.zeros((self.batch_size, 4))\n",
    "        \n",
    "        for i in range(self.batch_size):\n",
    "            s_, a_ = self.memory.random_access()\n",
    "            input_states[i] = s_\n",
    "            target_q[i,a_] = 10  \n",
    "            #Now we want to mimick the expert, so we want to maximize the\n",
    "            #target function in the action applied by the expert           \n",
    "        l = self.model.train_on_batch(input_states, target_q)\n",
    "        return l\n",
    "\n",
    "    def save(self,name_weights='model.h5',name_model='model.json'):\n",
    "        self.model.save_weights(name_weights, overwrite=True)\n",
    "        with open(name_model, \"w\") as outfile:\n",
    "            json.dump(self.model.to_json(), outfile)\n",
    "            \n",
    "    def load(self,name_weights='model.h5',name_model='model.json'):\n",
    "        with open(name_model, \"r\") as jfile:\n",
    "            model = model_from_json(json.load(jfile))\n",
    "        model.load_weights(name_weights)\n",
    "        model.compile(\"sgd\", \"mse\")\n",
    "        self.model = model\n",
    "            \n",
    "class DQN_CNN_Mimick(DQN_Mimick):\n",
    "    def __init__(self, *args,lr=0.1,**kwargs):\n",
    "        super(DQN_CNN_Mimick, self).__init__(*args,**kwargs)\n",
    "        \n",
    "        model = Sequential()\n",
    "        model.add(Conv2D(50,(2,2),input_shape=(5,5,self.n_state,),activation='relu')) #model with 1 hidden CNN performs the best\n",
    "        #with my method from what I ve experimented\n",
    "        model.add(Flatten())\n",
    "        model.add(Dense(4))\n",
    "        model.compile(sgd(lr=lr, decay=1e-4, momentum=0.0), \"mse\")\n",
    "        self.model = model"
   ]
  },
  {
   "cell_type": "code",
   "execution_count": 110,
   "metadata": {},
   "outputs": [],
   "source": [
    "def train_mimick(expert,agent,env,epoch,prefix=''):\n",
    "    # Number of won games\n",
    "    score = 0\n",
    "    loss = 0    \n",
    "    \n",
    "    for e in range(epoch):\n",
    "        # At each epoch, we restart to a fresh game and get the initial state\n",
    "        state = env.reset()\n",
    "        # This assumes that the games will terminate\n",
    "        game_over = False\n",
    "\n",
    "        win = 0\n",
    "        lose = 0\n",
    "        while not game_over:\n",
    "            # The agent performs an action\n",
    "            action = expert.act(state,train=False)\n",
    "\n",
    "            # Apply an action to the environment, get the next state, the reward\n",
    "            # and if the games end\n",
    "            prev_state = state\n",
    "            state, reward, game_over = env.act(action)\n",
    "\n",
    "            # Update the counters\n",
    "            if reward > 0:\n",
    "                win = win + reward\n",
    "            if reward < 0:\n",
    "                lose = lose -reward\n",
    "\n",
    "            # Apply the reinforcement strategy\n",
    "            loss = agent.reinforce(prev_state,  action)\n",
    "\n",
    "        # Save as a mp4\n",
    "        if e % 10 == 0:\n",
    "            env.draw(prefix+str(e))\n",
    "\n",
    "        # Update stats\n",
    "        score += win-lose\n",
    "\n",
    "        print(\"Epoch {:03d}/{:03d} | Loss {:.4f} | Win/lose count {}/{} ({})\"\n",
    "              .format(e+1, epoch, loss, win, lose, win-lose))\n",
    "        agent.save(name_weights=prefix+'model.h5',name_model=prefix+'model.json')"
   ]
  },
  {
   "cell_type": "code",
   "execution_count": 111,
   "metadata": {},
   "outputs": [
    {
     "name": "stdout",
     "output_type": "stream",
     "text": [
      "Epoch 001/025 | Loss 4.2876 | Win/lose count 17.0/0 (17.0)\n",
      "Epoch 002/025 | Loss 3.8049 | Win/lose count 15.5/1.0 (14.5)\n",
      "Epoch 003/025 | Loss 3.2228 | Win/lose count 12.0/1.0 (11.0)\n",
      "Epoch 004/025 | Loss 2.4342 | Win/lose count 14.0/0 (14.0)\n",
      "Epoch 005/025 | Loss 3.6731 | Win/lose count 17.0/0 (17.0)\n",
      "Epoch 006/025 | Loss 1.5576 | Win/lose count 5.0/0 (5.0)\n",
      "Epoch 007/025 | Loss 2.7464 | Win/lose count 18.5/1.0 (17.5)\n",
      "Epoch 008/025 | Loss 1.6740 | Win/lose count 10.0/1.0 (9.0)\n",
      "Epoch 009/025 | Loss 4.6215 | Win/lose count 19.5/0 (19.5)\n",
      "Epoch 010/025 | Loss 2.1016 | Win/lose count 3.5/0 (3.5)\n",
      "Epoch 011/025 | Loss 4.5505 | Win/lose count 8.0/0 (8.0)\n",
      "Epoch 012/025 | Loss 2.5588 | Win/lose count 24.5/1.0 (23.5)\n",
      "Epoch 013/025 | Loss 3.4981 | Win/lose count 14.5/2.0 (12.5)\n",
      "Epoch 014/025 | Loss 3.5765 | Win/lose count 17.0/0 (17.0)\n",
      "Epoch 015/025 | Loss 2.5674 | Win/lose count 18.0/1.0 (17.0)\n",
      "Epoch 016/025 | Loss 3.0465 | Win/lose count 5.0/0 (5.0)\n",
      "Epoch 017/025 | Loss 2.2491 | Win/lose count 5.5/0 (5.5)\n",
      "Epoch 018/025 | Loss 2.8573 | Win/lose count 27.5/0 (27.5)\n",
      "Epoch 019/025 | Loss 3.6853 | Win/lose count 22.5/1.0 (21.5)\n",
      "Epoch 020/025 | Loss 2.7968 | Win/lose count 21.5/0 (21.5)\n",
      "Epoch 021/025 | Loss 3.8833 | Win/lose count 24.0/1.0 (23.0)\n",
      "Epoch 022/025 | Loss 3.0052 | Win/lose count 1.5/0 (1.5)\n",
      "Epoch 023/025 | Loss 2.6325 | Win/lose count 21.0/1.0 (20.0)\n",
      "Epoch 024/025 | Loss 3.9206 | Win/lose count 8.5/0 (8.5)\n",
      "Epoch 025/025 | Loss 3.1019 | Win/lose count 20.0/2.0 (18.0)\n"
     ]
    }
   ],
   "source": [
    "expert = agent\n",
    "agent_n = DQN_CNN_Mimick(size, lr=.1, epsilon = 0.1, memory_size=2000, batch_size = 32,n_state=2)\n",
    "env = EnvironmentExploring(grid_size=size, max_time=T, temperature=0.3)\n",
    "train_mimick(expert,agent_n, env, epochs_train, prefix='cnn_train_mimick')"
   ]
  },
  {
   "cell_type": "code",
   "execution_count": 112,
   "metadata": {},
   "outputs": [
    {
     "name": "stdout",
     "output_type": "stream",
     "text": [
      "Epoch 1: Win/lose count 13.5/3.0. Average score (10.5)\n",
      "Epoch 2: Win/lose count 0.5/0. Average score (5.5)\n",
      "Epoch 3: Win/lose count 7.5/0. Average score (6.166666666666667)\n",
      "Epoch 4: Win/lose count 0.5/0. Average score (4.75)\n",
      "Epoch 5: Win/lose count 10.5/1.0. Average score (5.7)\n",
      "Epoch 6: Win/lose count 8.5/2.0. Average score (5.833333333333333)\n",
      "Epoch 7: Win/lose count 6.0/0. Average score (5.857142857142857)\n",
      "Epoch 8: Win/lose count 0/1.0. Average score (5.0)\n",
      "Epoch 9: Win/lose count 11.5/5.0. Average score (5.166666666666667)\n",
      "Epoch 10: Win/lose count 0.5/0. Average score (4.7)\n",
      "Epoch 11: Win/lose count 7.0/0. Average score (4.909090909090909)\n",
      "Epoch 12: Win/lose count 4.5/0. Average score (4.875)\n",
      "Epoch 13: Win/lose count 2.0/0. Average score (4.653846153846154)\n",
      "Epoch 14: Win/lose count 5.0/0. Average score (4.678571428571429)\n",
      "Epoch 15: Win/lose count 8.5/1.0. Average score (4.866666666666666)\n",
      "Epoch 16: Win/lose count 4.5/2.0. Average score (4.71875)\n",
      "Epoch 17: Win/lose count 1.5/1.0. Average score (4.470588235294118)\n",
      "Epoch 18: Win/lose count 8.5/2.0. Average score (4.583333333333333)\n",
      "Epoch 19: Win/lose count 3.0/1.0. Average score (4.447368421052632)\n",
      "Epoch 20: Win/lose count 9.0/1.0. Average score (4.625)\n",
      "Epoch 21: Win/lose count 5.0/1.0. Average score (4.595238095238095)\n",
      "Epoch 22: Win/lose count 3.5/0. Average score (4.545454545454546)\n",
      "Epoch 23: Win/lose count 9.0/0. Average score (4.739130434782608)\n",
      "Epoch 24: Win/lose count 8.5/1.0. Average score (4.854166666666667)\n",
      "Epoch 25: Win/lose count 11.5/3.0. Average score (5.0)\n",
      "Final score: 5.0\n"
     ]
    }
   ],
   "source": [
    "env_test = Environment(grid_size=size, max_time=T,temperature=0.3)\n",
    "test(agent_n,env_test,epochs_test,prefix='cnn_test_mimick')"
   ]
  },
  {
   "cell_type": "code",
   "execution_count": 108,
   "metadata": {},
   "outputs": [
    {
     "data": {
      "text/html": [
       "<video alt=\"test\" controls>\n",
       "                <source src=\"data:video/mp4;base64,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\" type=\"video/mp4\" />\n",
       "             </video>"
      ],
      "text/plain": [
       "<IPython.core.display.HTML object>"
      ]
     },
     "execution_count": 108,
     "metadata": {},
     "output_type": "execute_result"
    }
   ],
   "source": [
    "HTML(display_videos('cnn_test_mimick10.mp4'))"
   ]
  },
  {
   "cell_type": "markdown",
   "metadata": {},
   "source": [
    "**Conclusion:**\n",
    "The outcome of mimick experiment doesn't improve the result that was found in the previous experiment done in question 10."
   ]
  },
  {
   "cell_type": "markdown",
   "metadata": {},
   "source": [
    "***"
   ]
  }
 ],
 "metadata": {
  "kernelspec": {
   "display_name": "Python 3",
   "language": "python",
   "name": "python3"
  },
  "language_info": {
   "codemirror_mode": {
    "name": "ipython",
    "version": 3
   },
   "file_extension": ".py",
   "mimetype": "text/x-python",
   "name": "python",
   "nbconvert_exporter": "python",
   "pygments_lexer": "ipython3",
   "version": "3.6.5"
  }
 },
 "nbformat": 4,
 "nbformat_minor": 2
}
